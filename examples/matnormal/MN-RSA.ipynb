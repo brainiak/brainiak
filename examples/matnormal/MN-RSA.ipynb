{
 "cells": [
  {
   "cell_type": "markdown",
   "metadata": {},
   "source": [
    "# MN-RSA derivation and example\n",
    "\n",
    "$$\n",
    "\\DeclareMathOperator{\\Tr}{Tr}\n",
    "\\newcommand{\\trp}{{^\\top}} % transpose\n",
    "\\newcommand{\\trace}{\\text{Trace}} % trace\n",
    "\\newcommand{\\inv}{^{-1}}\n",
    "\\newcommand{\\mb}{\\mathbf{b}}\n",
    "\\newcommand{\\M}{\\mathbf{M}}\n",
    "\\newcommand{\\G}{\\mathbf{G}}\n",
    "\\newcommand{\\A}{\\mathbf{A}}\n",
    "\\newcommand{\\R}{\\mathbf{R}}\n",
    "\\renewcommand{\\S}{\\mathbf{S}}\n",
    "\\newcommand{\\B}{\\mathbf{B}}\n",
    "\\newcommand{\\Q}{\\mathbf{Q}}\n",
    "\\newcommand{\\mH}{\\mathbf{H}}\n",
    "\\newcommand{\\U}{\\mathbf{U}}\n",
    "\\newcommand{\\mL}{\\mathbf{L}}\n",
    "\\newcommand{\\diag}{\\mathrm{diag}}\n",
    "\\newcommand{\\etr}{\\mathrm{etr}}\n",
    "\\renewcommand{\\H}{\\mathbf{H}}\n",
    "\\newcommand{\\vecop}{\\mathrm{vec}}\n",
    "\\newcommand{\\I}{\\mathbf{I}}\n",
    "\\newcommand{\\X}{\\mathbf{X}}\n",
    "\\newcommand{\\Y}{\\mathbf{Y}}\n",
    "\\newcommand{\\Z}{\\mathbf{Z}}\n",
    "\\renewcommand{\\L}{\\mathbf{L}}\n",
    "$$\n",
    "\n",
    "We write the generative model for beta-series RSA. Note that for indicator-coded design matrix $\\X$ this is exactly equivalent to reshaping your data and directly computing the correlation, but allows for other features like convolving $\\X$ with an HRF. Here is the model: \n",
    "\n",
    "$$\n",
    "\\Y = \\X\\beta + \\epsilon\n",
    "$$\n",
    "\n",
    "where $\\Y$ is a TRs-by-voxels matrix of fMRI data, $\\X$ is a timepoint-by-feature design matrix that usually identifies conditions in the experiment, $\\beta$ is a feature-by-voxel matrix, $\\epsilon$ is a matrix of random perturbations (i.e. the noise). In conventional correlation-based RSA $\\epsilon \\sim \\mathcal{N}(0, \\sigma^2 \\I)$, i.e. the distribution of residulas is i.i.d. In Cai et al's BRSA $\\epsilon$ has temporal AR(1) noise structure and voxel-specific noise variance. Of research interest is the covariance of $\\beta$ in its row dimension, so we want to estimate as little as possible of anything else. We additionally import from Cai et al.'s BRSA the use of $\\X_0$, an unmodeled latent timecourse projected onto voxels by $\\beta_0$ as a way of capturing additional residual structure. \n",
    "\n",
    "The above model can be written as follows: \n",
    "\n",
    "$$\n",
    "\\Y\\mid\\beta,\\X_0,\\beta_0,\\Sigma_t,\\sigma_s  \\sim\\mathcal{MN}(\\X\\beta+\\X_0\\beta_0, \\Sigma_t, \\sigma_s\\trp\\mathbf{I}),\n",
    "$$\n",
    "\n",
    "where $\\Sigma_t$ is a covariance matrix for the AR(1) covariance ($\\A\\inv$ in the BRSA paper), and $\\sigma_s$ is a spatial noise scaler that allows each voxel to have its own noise. This is not as general as voxel-specific AR coefficients, but has far fewer parameters and will allow us to tractably handle more complex temporal covariances. This tradeoff will behave differently in different datasets. \n",
    "\n",
    "Now we add a matrix-normal prior on $\\beta$, allowing us to marginalize. We parameterize the covariance in terms of its cholesky factor $\\L$. \n",
    "\n",
    "$$\n",
    "\\beta\\sim\\mathcal{MN}(0,\\L\\L\\trp, \\sigma_s\\trp\\I)\\\\\n",
    "\\Y\\mid\\X_0,\\beta_0,\\Sigma_t,\\sigma_s  \\sim\\mathcal{MN}(\\X_0\\beta_0, \\Sigma_t + \\X\\L\\L\\trp\\X\\trp ,  \\vec{\\sigma_s}\\trp\\mathbf{I})\\\\\n",
    "$$\n",
    "\n",
    "Using the same identity, we can marginalize over $\\beta_0$. \n",
    "\n",
    "$$\n",
    "\\beta_0\\sim\\mathcal{MN}(0,\\I, \\sigma_s\\I)\\\\\n",
    "\\Y\\mid\\X_0,\\beta_0,\\Sigma_t,\\sigma_s  \\sim\\mathcal{MN}(0, \\Sigma_t + \\X\\L\\L\\trp\\X\\trp + \\X_0\\X_0\\trp , \\sigma_s\\mathbf{I})\n",
    "$$\n",
    "\n",
    "Now, the temporal covariance is the sum of an autoregressive term, a low-rank noise term, and our term of interest. \n",
    "\n",
    "Next, we apply some computational tricks. Consider the matrix normal (log) density: \n",
    "\n",
    "$$\n",
    "P(X; M, U, V) = \\frac{\\exp\\left(-\\frac12\\Tr\\left[V\\inv(X-M)\\trp U\\inv(X-M)\\right]\\right)}{(2\\pi)^{np/2}|U|^{p/2}|V|^{n/2}}\\\\\n",
    "2 \\log P(X; M, U, V) = -\\Tr\\left[V\\inv(X-M)\\trp U\\inv(X-M)\\right]-np\\log 2\\pi-p\\log|U|-n\\log|V|\n",
    "$$\n",
    "\n",
    "Here $n$ and $p$ are the row and column dimension of $M$. Note that both the determinant and the inverse are $O(n^3)$ and $O(p^3)$ for the two covariances. Furthermore, computing the determinant and logging it will be unstable. So instead we can take the cholesky decomposition of both covariances, at which point the log-determinant is just 2 times the sum of the diagonal elements. Then, we recognize that the term inside of the trace can be computed by our favorite triangular matrix solver using the cholesky we already paid for. Let $A = V, B = (X-M)\\trp$. Then a solver for X in $AX=B$ will give us exactly $V^{-1}(X-M)\\trp$. We play the same exact trick for $A=U, B=(X-M)$ (though of course we center the brain first so $M=0$. \n",
    "\n",
    "Cai et al. additionally apply the matrix inversion lemma twice so that they invert something feature-by-feature instead of time-by-time. Doing this naively will not help us in this version because we're still stuck with doing the determinant (which is cubic in time). Here is the expression: \n",
    "\n",
    "$$\n",
    "\\begin{aligned}\n",
    "\\Sigma_Y :=& \\Sigma_t + \\X\\L\\L\\trp\\X\\trp + \\X_0\\X_0\\trp \\\\\n",
    "\\mbox{let } \\Z :=&  \\Sigma_t + \\X\\L\\L\\trp\\X\\trp\\\\\n",
    "\\Sigma_Y\\inv =& (\\Z + \\X_0\\X_0\\trp)\\inv \\\\\n",
    "=& \\Z\\inv - \\Z\\inv\\X_0(\\I + \\X_0\\trp\\Z\\inv\\X_0)\\inv\\X_0\\trp\\Z\\inv\\\\\n",
    "\\Z\\inv =& \\Sigma_t\\inv - \\Sigma_t\\inv \\X\\L(\\I+\\L\\trp\\X\\trp\\Sigma_t\\inv\\L\\X)\\inv\\L\\trp\\X\\trp \\Sigma_t\\inv\\\\\n",
    "\\end{aligned}\n",
    "$$\n",
    "\n",
    "That said, if the inverse and determinant of $\\Sigma_t\\inv$ is trivial (as in the case of AR1 but not generally), we can apply the matrix determinant lemma:\n",
    "\n",
    "$$\n",
    "\\begin{aligned}\n",
    "\\Sigma_Y :=& \\Sigma_t + \\X\\L\\L\\trp\\X\\trp + \\X_0\\X_0\\trp \\\\\n",
    "\\mbox{let } \\Z :=&  \\Sigma_t + \\X\\L\\L\\trp\\X\\trp\\\\\n",
    "|\\Sigma_Y| =& |\\Z + \\X_0\\X_0\\trp| \\\\\n",
    "=& |\\Z|\\times|\\I + \\X_0\\trp\\Z\\inv\\X_0|\\\\\n",
    "\\Z\\inv =& \\Sigma_t\\inv - \\Sigma_t\\inv \\X\\L(\\I+\\L\\trp\\X\\trp\\Sigma_t\\inv\\X\\L)\\inv\\L\\trp\\X\\trp \\Sigma_t\\inv\\\\\n",
    "|\\Z| =& |\\Sigma_t| \\times|\\I+\\L\\trp\\X\\trp\\Sigma_t\\inv\\X\\L|\\\\\n",
    "=& \\frac{|\\I+\\L\\trp\\X\\trp\\Sigma_t\\inv\\X\\L|}{|\\Sigma_t\\inv|} \\\\\n",
    "\\end{aligned}\n",
    "$$\n",
    "\n",
    "Now we notice that we can still apply our cholesky-inverse-solve trick because the term in the inverse and determinant with the lemmas applied is identical. As long as the inverse and determinant of the temporal noise covariance is computable in better than cubic time, this is useful to do. Currently the lemma trick is not being done in the code (but the cholesky trick is). \n",
    "\n",
    "Now here is an example: "
   ]
  },
  {
   "cell_type": "code",
   "execution_count": 1,
   "metadata": {},
   "outputs": [
    {
     "data": {
      "text/plain": [
       "<matplotlib.image.AxesImage at 0x122876518>"
      ]
     },
     "execution_count": 1,
     "metadata": {},
     "output_type": "execute_result"
    },
    {
     "data": {
      "image/png": "[encoded data removed]",
      "text/plain": [
       "<matplotlib.figure.Figure at 0x106403358>"
      ]
     },
     "metadata": {},
     "output_type": "display_data"
    }
   ],
   "source": [
    "import scipy\n",
    "from scipy.stats import norm\n",
    "from scipy.special import expit as inv_logit\n",
    "import numpy as np\n",
    "from numpy.linalg import cholesky\n",
    "import matplotlib.pyplot as plt\n",
    "\n",
    "def rmn(rowcov, colcov):\n",
    "    # generate random draws from a zero-mean matrix-normal distribution\n",
    "    Z = norm.rvs(norm.rvs(size=(rowcov.shape[0], colcov.shape[0])))\n",
    "    return(cholesky(rowcov).dot(Z).dot(cholesky(colcov)))\n",
    "\n",
    "\n",
    "def make_ar1_with_lowrank_covmat(size, rank):\n",
    "    \"\"\" Generate a random covariance that is AR1 with added low rank structure\n",
    "    \"\"\"\n",
    "    sigma = np.abs(norm.rvs())\n",
    "    rho = np.random.uniform(-1,0)\n",
    "    offdiag_template = scipy.linalg.toeplitz(np.r_[0, 1, np.zeros(size-2)])\n",
    "    diag_template = np.diag(np.r_[0,np.ones(size-2),0])\n",
    "    I = np.eye(size)\n",
    "\n",
    "    prec_matrix = (I - rho * offdiag_template + rho**2 * diag_template) / (sigma**2)\n",
    "    lowrank_matrix = norm.rvs(size=(size, rank))\n",
    "    return np.linalg.inv(prec_matrix) + lowrank_matrix.dot(lowrank_matrix.T)\n",
    "\n",
    "\n",
    "def gen_data(n_T, n_V, space_cov, time_cov):\n",
    "\n",
    "    n_C = 16\n",
    "    U = np.zeros([n_C, n_C])\n",
    "    U = np.eye(n_C) * 0.6\n",
    "    U[8:12, 8:12] = 0.8\n",
    "    for cond in range(8, 12):\n",
    "        U[cond,cond] = 1\n",
    "\n",
    "    beta = rmn(U, space_cov)\n",
    "\n",
    "    X = rmn(np.eye(n_T), np.eye(n_C))\n",
    "\n",
    "    Y_hat = X.dot(beta)\n",
    "\n",
    "    Y = Y_hat + rmn(time_cov, space_cov)\n",
    "\n",
    "    return beta, X, Y, U\n",
    "\n",
    "n_T = 100\n",
    "n_V = 80\n",
    "n_C = 16\n",
    "\n",
    "spacecov_true = np.diag(np.abs(norm.rvs(size=(n_V))))\n",
    "timecov_true = make_ar1_with_lowrank_covmat(n_T, rank=7)\n",
    "\n",
    "true_beta, true_X, true_Y, true_U = gen_data(n_T, n_V, spacecov_true, timecov_true)\n",
    "\n",
    "%matplotlib inline\n",
    "plt.matshow(true_U)"
   ]
  },
  {
   "cell_type": "markdown",
   "metadata": {},
   "source": [
    "That is the target matrix. Now we noisify it using a simple synthetic brain data generator, and recover it with MN-RSA. We intentionally code up MN-RSA here from the building blocks the toolkit provides so we can illustrate how easy it is to build new models: "
   ]
  },
  {
   "cell_type": "code",
   "execution_count": 2,
   "metadata": {},
   "outputs": [
    {
     "name": "stdout",
     "output_type": "stream",
     "text": [
      "INFO:tensorflow:Optimization terminated with:\n",
      "  Message: b'CONVERGENCE: REL_REDUCTION_OF_F_<=_FACTR*EPSMCH'\n",
      "  Objective function value: 20082.401254\n",
      "  Number of iterations: 144\n",
      "  Number of functions evaluations: 163\n"
     ]
    },
    {
     "data": {
      "text/plain": [
       "<matplotlib.image.AxesImage at 0x12f334358>"
      ]
     },
     "execution_count": 2,
     "metadata": {},
     "output_type": "execute_result"
    },
    {
     "data": {
      "image/png": "[encoded data removed]",
      "text/plain": [
       "<matplotlib.figure.Figure at 0x12f1d1e48>"
      ]
     },
     "metadata": {},
     "output_type": "display_data"
    }
   ],
   "source": [
    "import tensorflow as tf\n",
    "from brainiak.matnormal.covs import (CovDiagonal, CovAR1,\n",
    "                                     CovUnconstrainedInvCholesky)\n",
    "from brainiak.utils.utils import cov2corr\n",
    "from brainiak.matnormal.matnormal_likelihoods import matnorm_logp_marginal_row\n",
    "from tensorflow.contrib.opt import ScipyOptimizerInterface\n",
    "\n",
    "space_cov = CovDiagonal(size=n_V)\n",
    "time_cov = CovAR1(size=n_T)\n",
    "rsa_cov = CovUnconstrainedInvCholesky(size=n_C)\n",
    "\n",
    "# inputs into TF\n",
    "X = tf.constant(true_X)\n",
    "Y = tf.constant(true_Y)\n",
    "\n",
    "params = rsa_cov.get_optimize_vars() +\\\n",
    "         time_cov.get_optimize_vars() +\\\n",
    "         space_cov.get_optimize_vars()\n",
    "\n",
    "# tf session\n",
    "sess = tf.Session()\n",
    "\n",
    "# initialize\n",
    "sess.run(tf.global_variables_initializer())\n",
    "\n",
    "# construct loss (marginal likelihood constructed automatically)\n",
    "loss = -(time_cov.logp +\n",
    "         space_cov.logp +\n",
    "         rsa_cov.logp +\n",
    "         matnorm_logp_marginal_row(Y,\n",
    "            row_cov=time_cov,\n",
    "            col_cov=space_cov,\n",
    "            marg=X, marg_cov=rsa_cov))\n",
    "\n",
    "# tie into scipy's optimizers\n",
    "optimizer = ScipyOptimizerInterface(loss,\n",
    "                                    var_list=params,\n",
    "                                    method=\"L-BFGS-B\")\n",
    "\n",
    "\n",
    "optimizer.minimize(sess)\n",
    "\n",
    "U = rsa_cov.Sigma.eval(session=sess)\n",
    "C = cov2corr(U)\n",
    "plt.matshow(C)"
   ]
  },
  {
   "cell_type": "markdown",
   "metadata": {},
   "source": [
    "In practice, MN-RSA is actually implemented in `brainiak.matnormal`, including the nuisance regressor estimation of Cai et al. "
   ]
  },
  {
   "cell_type": "code",
   "execution_count": 5,
   "metadata": {},
   "outputs": [
    {
     "name": "stdout",
     "output_type": "stream",
     "text": [
      "INFO:tensorflow:Optimization terminated with:\n",
      "  Message: b'CONVERGENCE: REL_REDUCTION_OF_F_<=_FACTR*EPSMCH'\n",
      "  Objective function value: 17691.188228\n",
      "  Number of iterations: 8723\n",
      "  Number of functions evaluations: 9173\n"
     ]
    },
    {
     "data": {
      "text/plain": [
       "<matplotlib.image.AxesImage at 0x130596550>"
      ]
     },
     "execution_count": 5,
     "metadata": {},
     "output_type": "execute_result"
    },
    {
     "data": {
      "image/png": "[encoded data removed]",
      "text/plain": [
       "<matplotlib.figure.Figure at 0x12f33a358>"
      ]
     },
     "metadata": {},
     "output_type": "display_data"
    },
    {
     "data": {
      "image/png": "[encoded data removed]",
      "text/plain": [
       "<matplotlib.figure.Figure at 0x1063fe208>"
      ]
     },
     "metadata": {},
     "output_type": "display_data"
    }
   ],
   "source": [
    "from brainiak.matnormal import MNRSA\n",
    "from sklearn.linear_model import LinearRegression\n",
    "\n",
    "# beta_series RSA\n",
    "model_linreg = LinearRegression(fit_intercept=False)\n",
    "model_linreg.fit(true_X, true_Y)\n",
    "beta_series = model_linreg.coef_\n",
    "naive_RSA = np.corrcoef(beta_series.T)\n",
    "\n",
    "# MN-RSA\n",
    "model_matnorm = MNRSA(time_cov=time_cov,\n",
    "                            space_cov=space_cov, n_nureg=3)\n",
    "\n",
    "model_matnorm.fit(true_Y, true_X)\n",
    "\n",
    "# very similar on this toy data but in real settings may be more different. \n",
    "plt.matshow(model_matnorm.C_)\n",
    "plt.matshow(naive_RSA)"
   ]
  }
 ],
 "metadata": {
  "anaconda-cloud": {},
  "kernelspec": {
   "display_name": "Python [conda env:brainiak]",
   "language": "python",
   "name": "conda-env-brainiak-py"
  },
  "language_info": {
   "codemirror_mode": {
    "name": "ipython",
    "version": 3
   },
   "file_extension": ".py",
   "mimetype": "text/x-python",
   "name": "python",
   "nbconvert_exporter": "python",
   "pygments_lexer": "ipython3",
   "version": "3.5.2"
  }
 },
 "nbformat": 4,
 "nbformat_minor": 1
}
