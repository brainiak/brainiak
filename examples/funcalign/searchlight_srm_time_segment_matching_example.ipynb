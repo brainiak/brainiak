{
 "cells": [
  {
   "cell_type": "markdown",
   "metadata": {},
   "source": [
    "### Import Libraries"
   ]
  },
  {
   "cell_type": "code",
   "execution_count": null,
   "metadata": {
    "collapsed": false
   },
   "outputs": [],
   "source": [
    "%matplotlib inline\n",
    "import numpy as np\n",
    "import sys\n",
    "import nibabel as nib\n",
    "from nilearn import plotting"
   ]
  },
  {
   "cell_type": "markdown",
   "metadata": {},
   "source": [
    "### Download Data"
   ]
  },
  {
   "cell_type": "code",
   "execution_count": null,
   "metadata": {
    "collapsed": false
   },
   "outputs": [],
   "source": [
    "! ./download-data.sh"
   ]
  },
  {
   "cell_type": "markdown",
   "metadata": {},
   "source": [
    "### Run Searchlight SRM"
   ]
  },
  {
   "cell_type": "code",
   "execution_count": null,
   "metadata": {
    "collapsed": false
   },
   "outputs": [],
   "source": [
    "! mpirun -n 4 python3 searchlight_srm_example.py"
   ]
  },
  {
   "cell_type": "markdown",
   "metadata": {
    "collapsed": false
   },
   "source": [
    "### Get Whole Brain Mask"
   ]
  },
  {
   "cell_type": "code",
   "execution_count": null,
   "metadata": {
    "collapsed": false
   },
   "outputs": [],
   "source": [
    "wbmask_fname = 'data/MNI152_T1_3mm_brain_mask.nii'\n",
    "mask = nib.load(wbmask_fname)\n",
    "affine = mask.affine\n",
    "mask = mask.get_data()\n",
    "zeromaskidx = mask <= 0"
   ]
  },
  {
   "cell_type": "markdown",
   "metadata": {},
   "source": [
    "### Get Accuracy Map"
   ]
  },
  {
   "cell_type": "code",
   "execution_count": null,
   "metadata": {
    "collapsed": false
   },
   "outputs": [],
   "source": [
    "acc_path = 'data/searchlight_srm_tsm_acc.npz'\n",
    "acc_file = np.load(acc_path)\n",
    "acc_map = acc_file['acc']"
   ]
  },
  {
   "cell_type": "markdown",
   "metadata": {},
   "source": [
    "### Map to MNI Space"
   ]
  },
  {
   "cell_type": "code",
   "execution_count": null,
   "metadata": {
    "collapsed": false
   },
   "outputs": [],
   "source": [
    "# Parameters\n",
    "ds = 6 #the dataset we provided was downsampled by 6\n",
    "mni_shape = [61,73,61]\n",
    "min_size  = [1,7,0] # min and max of nonzeros\n",
    "max_size  = [59,65,58]\n",
    "acc_mni = np.zeros_like(mask)\n",
    "# mapping (make sure length of each dimension is a multiple of 'ds')\n",
    "acc_mni[min_size[0]-1:max_size[0]+1, min_size[1]-1:max_size[1]+1, min_size[2]:max_size[2]+2] = \\\n",
    "acc_map.repeat(ds, axis=0).repeat(ds, axis=1).repeat(ds, axis=2)\n",
    "\n",
    "# if no downsampling\n",
    "#acc_mni[min_size[0]:max_size[0], min_size[1]:max_size[1], min_size[2]:max_size[2]] = acc_map\n",
    "\n",
    "# mask\n",
    "acc_mni[zeromaskidx] = 0"
   ]
  },
  {
   "cell_type": "markdown",
   "metadata": {},
   "source": [
    "### Save accuracy map"
   ]
  },
  {
   "cell_type": "code",
   "execution_count": null,
   "metadata": {
    "collapsed": false
   },
   "outputs": [],
   "source": [
    "out_path = 'data/searchlight_srm_tsm_acc_mni.nii'\n",
    "acc_img = nib.Nifti1Image(acc_mni, affine)\n",
    "nib.save(acc_img, out_path)"
   ]
  },
  {
   "cell_type": "markdown",
   "metadata": {},
   "source": [
    "### Visualize Results"
   ]
  },
  {
   "cell_type": "code",
   "execution_count": null,
   "metadata": {
    "collapsed": false
   },
   "outputs": [],
   "source": [
    "plotting.plot_stat_map(out_path)"
   ]
  },
  {
   "cell_type": "code",
   "execution_count": null,
   "metadata": {
    "collapsed": false
   },
   "outputs": [],
   "source": []
  }
 ],
 "metadata": {
  "kernelspec": {
   "display_name": "Python 3",
   "language": "python",
   "name": "python3"
  },
  "language_info": {
   "codemirror_mode": {
    "name": "ipython",
    "version": 3
   },
   "file_extension": ".py",
   "mimetype": "text/x-python",
   "name": "python",
   "nbconvert_exporter": "python",
   "pygments_lexer": "ipython3",
   "version": "3.6.0"
  }
 },
 "nbformat": 4,
 "nbformat_minor": 2
}
