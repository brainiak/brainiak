{
 "cells": [
  {
   "cell_type": "markdown",
   "metadata": {},
   "source": [
    "### Import Libraries"
   ]
  },
  {
   "cell_type": "code",
   "execution_count": 8,
   "metadata": {
    "collapsed": false
   },
   "outputs": [],
   "source": [
    "%matplotlib inline\n",
    "import numpy as np\n",
    "import sys\n",
    "import nibabel as nib\n",
    "from nilearn import plotting"
   ]
  },
  {
   "cell_type": "markdown",
   "metadata": {},
   "source": [
    "### Download Data"
   ]
  },
  {
   "cell_type": "code",
   "execution_count": 5,
   "metadata": {
    "collapsed": false
   },
   "outputs": [
    {
     "name": "stdout",
     "output_type": "stream",
     "text": [
      "  % Total    % Received % Xferd  Average Speed   Time    Time     Time  Current\n",
      "                                 Dload  Upload   Total   Spent    Left  Speed\n",
      "  0     0    0     0    0     0      0      0 --:--:-- --:--:-- --:--:--     0\n",
      "100 28.4M  100 28.4M    0     0  4837k      0  0:00:06  0:00:06 --:--:-- 7318k\n",
      "  % Total    % Received % Xferd  Average Speed   Time    Time     Time  Current\n",
      "                                 Dload  Upload   Total   Spent    Left  Speed\n",
      "  0     0    0     0    0     0      0      0 --:--:-- --:--:-- --:--:--     0\n",
      "100   213  100   213    0     0     71      0  0:00:03  0:00:02  0:00:01   463\n",
      "  % Total    % Received % Xferd  Average Speed   Time    Time     Time  Current\n",
      "                                 Dload  Upload   Total   Spent    Left  Speed\n",
      "  0     0    0     0    0     0      0      0 --:--:-- --:--:-- --:--:--     0\n",
      "100 4208k  100 4208k    0     0  2397k      0  0:00:01  0:00:01 --:--:-- 6514k\n",
      "  % Total    % Received % Xferd  Average Speed   Time    Time     Time  Current\n",
      "                                 Dload  Upload   Total   Spent    Left  Speed\n",
      "  0     0    0     0    0     0      0      0 --:--:-- --:--:-- --:--:--     0\n",
      "100 22.8M  100 22.8M    0     0  5123k      0  0:00:04  0:00:04 --:--:-- 6583k\n",
      "  % Total    % Received % Xferd  Average Speed   Time    Time     Time  Current\n",
      "                                 Dload  Upload   Total   Spent    Left  Speed\n",
      "  0     0    0     0    0     0      0      0 --:--:-- --:--:-- --:--:--     0\n",
      "100 1061k  100 1061k    0     0  1041k      0  0:00:01  0:00:01 --:--:-- 1041k\n"
     ]
    }
   ],
   "source": [
    "! ./download-data.sh"
   ]
  },
  {
   "cell_type": "markdown",
   "metadata": {},
   "source": [
    "### Run Searchlight SRM"
   ]
  },
  {
   "cell_type": "code",
   "execution_count": 10,
   "metadata": {
    "collapsed": false
   },
   "outputs": [
    {
     "name": "stdout",
     "output_type": "stream",
     "text": [
      "[[[None None None None None None None None None None]\r\n",
      "  [None None None None None None None None None None]\r\n",
      "  [None None None None None None None None None None]\r\n",
      "  [None None None None None None None None None None]\r\n",
      "  [None None None None None None None None None None]\r\n",
      "  [None None None None None None None None None None]\r\n",
      "  [None None None None None None None None None None]\r\n",
      "  [None None None None None None None None None None]\r\n",
      "  [None None None None None None None None None None]\r\n",
      "  [None None None None None None None None None None]]\r\n",
      "\r\n",
      " [[None None None None None None None None None None]\r\n",
      "  [None 0.016393442622950821 0.051229508196721313 0.090163934426229497\r\n",
      "   0.13797814207650275 0.10655737704918032 0.040300546448087428\r\n",
      "   0.021174863387978141 0.011612021857923498 None]\r\n",
      "  [None 0.017076502732240439 0.03961748633879781 0.084699453551912565\r\n",
      "   0.12841530054644809 0.13251366120218577 0.043715846994535519\r\n",
      "   0.025956284153005466 0.019808743169398905 None]\r\n",
      "  [None 0.016393442622950821 0.036885245901639344 0.1209016393442623\r\n",
      "   0.12841530054644809 0.1243169398907104 0.033469945355191259\r\n",
      "   0.049180327868852458 0.02185792349726776 None]\r\n",
      "  [None 0.015027322404371586 0.023907103825136611 0.064207650273224046\r\n",
      "   0.10382513661202186 0.053961748633879779 0.027322404371584699\r\n",
      "   0.015710382513661202 0.016393442622950821 None]\r\n",
      "  [None 0.02185792349726776 0.019808743169398908 0.04849726775956284\r\n",
      "   0.097677595628415284 0.11270491803278689 0.045081967213114749\r\n",
      "   0.044398907103825137 0.017759562841530054 None]\r\n",
      "  [None 0.015710382513661202 0.040300546448087428 0.03825136612021858\r\n",
      "   0.058743169398907107 0.05737704918032787 0.019808743169398905\r\n",
      "   0.01912568306010929 0.0081967213114754103 None]\r\n",
      "  [None 0.023224043715846993 0.023907103825136611 0.022540983606557374\r\n",
      "   0.019808743169398905 0.022540983606557374 0.021857923497267756\r\n",
      "   0.0095628415300546433 0.0068306010928961746 None]\r\n",
      "  [None 0.010245901639344262 0.015027322404371586 0.028688524590163935\r\n",
      "   0.026639344262295084 0.019808743169398905 0.015710382513661199\r\n",
      "   0.0034153005464480878 0.0047814207650273234 None]\r\n",
      "  [None None None None None None None None None None]]\r\n",
      "\r\n",
      " [[None None None None None None None None None None]\r\n",
      "  [None 0.0081967213114754103 0.076502732240437146 0.13934426229508196\r\n",
      "   0.1823770491803279 0.15163934426229508 0.08060109289617487\r\n",
      "   0.04849726775956284 0.045765027322404367 None]\r\n",
      "  [None 0.0068306010928961755 0.054644808743169404 0.14139344262295081\r\n",
      "   0.16598360655737704 0.11885245901639345 0.08265027322404371\r\n",
      "   0.06147540983606558 0.031420765027322405 None]\r\n",
      "  [None 0.023224043715846993 0.067622950819672123 0.15778688524590165\r\n",
      "   0.18510928961748632 0.10997267759562841 0.053961748633879779\r\n",
      "   0.053961748633879786 0.027322404371584702 None]\r\n",
      "  [None 0.024590163934426229 0.067622950819672123 0.10109289617486339\r\n",
      "   0.093579234972677602 0.07035519125683061 0.036885245901639344\r\n",
      "   0.017759562841530054 0.0081967213114754103 None]\r\n",
      "  [None 0.012295081967213116 0.032103825136612023 0.043715846994535519\r\n",
      "   0.07035519125683061 0.088797814207650275 0.052595628415300542\r\n",
      "   0.037568306010928962 0.023224043715846993 None]\r\n",
      "  [None 0.020491803278688523 0.02663934426229508 0.025273224043715847\r\n",
      "   0.071038251366120214 0.040300546448087428 0.031420765027322405\r\n",
      "   0.025956284153005466 0.016393442622950821 None]\r\n",
      "  [None 0.0075136612021857929 0.018442622950819672 0.015710382513661202\r\n",
      "   0.038934426229508198 0.025273224043715847 0.017759562841530057\r\n",
      "   0.028688524590163939 0.0047814207650273234 None]\r\n",
      "  [None 0.0095628415300546433 0.0095628415300546468 0.019808743169398908\r\n",
      "   0.032786885245901641 0.018442622950819675 0.025956284153005469\r\n",
      "   0.0061475409836065573 0.0047814207650273234 None]\r\n",
      "  [None None None None None None None None None None]]\r\n",
      "\r\n",
      " [[None None None None None None None None None None]\r\n",
      "  [None 0.023224043715846993 0.12431693989071035 0.2103825136612022\r\n",
      "   0.31352459016393436 0.2377049180327869 0.13661202185792351\r\n",
      "   0.071038251366120214 0.058060109289617488 None]\r\n",
      "  [None 0.015710382513661202 0.065573770491803282 0.16393442622950818\r\n",
      "   0.20081967213114757 0.16256830601092895 0.092896174863387984\r\n",
      "   0.06147540983606558 0.049863387978142076 None]\r\n",
      "  [None 0.018442622950819675 0.047814207650273222 0.092213114754098366\r\n",
      "   0.12363387978142076 0.090163934426229497 0.063524590163934427\r\n",
      "   0.050546448087431695 0.050546448087431695 None]\r\n",
      "  [None 0.017076502732240439 0.033469945355191259 0.04439890710382513\r\n",
      "   0.045765027322404374 0.053278688524590168 0.029371584699453553\r\n",
      "   0.038934426229508191 0.025273224043715847 None]\r\n",
      "  [None 0.017076502732240435 0.0061475409836065573 0.0081967213114754103\r\n",
      "   0.026639344262295084 0.051229508196721313 0.026639344262295084\r\n",
      "   0.045081967213114749 0.032103825136612023 None]\r\n",
      "  [None 0.014344262295081968 0.0088797814207650285 0.0027322404371584699\r\n",
      "   0.013661202185792351 0.022540983606557378 0.025273224043715847\r\n",
      "   0.043715846994535512 0.018442622950819675 None]\r\n",
      "  [None 0.0088797814207650268 0.015710382513661202 0.009562841530054645\r\n",
      "   0.023224043715846993 0.023907103825136611 0.01912568306010929\r\n",
      "   0.017759562841530057 0.0088797814207650285 None]\r\n",
      "  [None 0.016393442622950821 0.014344262295081968 0.014344262295081968\r\n",
      "   0.019808743169398905 0.032786885245901641 0.023224043715846993\r\n",
      "   0.0088797814207650285 0.0027322404371584699 None]\r\n",
      "  [None None None None None None None None None None]]\r\n",
      "\r\n",
      " [[None None None None None None None None None None]\r\n",
      "  [None 0.015027322404371586 0.10928961748633879 0.26297814207650277\r\n",
      "   0.44467213114754095 0.30396174863387976 0.1721311475409836\r\n",
      "   0.074453551912568305 0.042349726775956283 None]\r\n",
      "  [None 0.0061475409836065564 0.062841530054644809 0.12568306010928962\r\n",
      "   0.15300546448087432 0.1133879781420765 0.094262295081967207\r\n",
      "   0.07513661202185791 0.050546448087431695 None]\r\n",
      "  [None 0.0054644808743169399 0.030054644808743172 0.041666666666666664\r\n",
      "   0.058060109289617495 0.036202185792349725 0.060792349726775961\r\n",
      "   0.064890710382513664 0.056693989071038252 None]\r\n",
      "  [None 0.0054644808743169399 0.012978142076502733 0.024590163934426229\r\n",
      "   0.044398907103825137 0.032786885245901641 0.034836065573770496\r\n",
      "   0.040983606557377053 0.026639344262295084 None]\r\n",
      "  [None 0.0034153005464480878 0.0088797814207650268 0.010245901639344262\r\n",
      "   0.011612021857923496 0.017076502732240439 0.018442622950819675\r\n",
      "   0.024590163934426229 0.023224043715846996 None]\r\n",
      "  [None 0.0034153005464480878 0.01092896174863388 0.0081967213114754103\r\n",
      "   0.0068306010928961755 0.012295081967213115 0.02800546448087432\r\n",
      "   0.034836065573770489 0.024590163934426229 None]\r\n",
      "  [None 0.009562841530054645 0.015027322404371586 0.0054644808743169399\r\n",
      "   0.0034153005464480878 0.017759562841530057 0.025273224043715847\r\n",
      "   0.032786885245901641 0.014344262295081968 None]\r\n",
      "  [None 0.0075136612021857929 0.016393442622950817 0.010245901639344262\r\n",
      "   0.009562841530054645 0.027322404371584699 0.019808743169398905\r\n",
      "   0.017076502732240439 0.012295081967213115 None]\r\n",
      "  [None None None None None None None None None None]]\r\n",
      "\r\n",
      " [[None None None None None None None None None None]\r\n",
      "  [None 0.030054644808743165 0.12295081967213113 0.27185792349726773\r\n",
      "   0.41461748633879791 0.30259562841530052 0.2151639344262295\r\n",
      "   0.10245901639344263 0.04439890710382513 None]\r\n",
      "  [None 0.01912568306010929 0.065573770491803268 0.1372950819672131\r\n",
      "   0.19125683060109289 0.12363387978142076 0.11885245901639345\r\n",
      "   0.07513661202185791 0.045765027322404367 None]\r\n",
      "  [None 0.0020491803278688526 0.028688524590163935 0.029371584699453557\r\n",
      "   0.0662568306010929 0.0662568306010929 0.060792349726775947\r\n",
      "   0.060792349726775947 0.062841530054644809 None]\r\n",
      "  [None 0.015027322404371582 0.031420765027322405 0.027322404371584702\r\n",
      "   0.045081967213114749 0.035519125683060114 0.025273224043715847\r\n",
      "   0.029371584699453557 0.023907103825136611 None]\r\n",
      "  [None 0.0088797814207650268 0.012978142076502731 0.0081967213114754103\r\n",
      "   0.011612021857923496 0.012978142076502735 0.012978142076502733\r\n",
      "   0.026639344262295084 0.015027322404371586 None]\r\n",
      "  [None 0.0081967213114754103 0.015710382513661202 0.011612021857923496\r\n",
      "   0.0075136612021857929 0.01912568306010929 0.016393442622950821\r\n",
      "   0.023907103825136611 0.021174863387978141 None]\r\n",
      "  [None 0.012978142076502733 0.017076502732240439 0.015710382513661202\r\n",
      "   0.017076502732240439 0.015710382513661202 0.0088797814207650268\r\n",
      "   0.010245901639344262 0.011612021857923496 None]\r\n",
      "  [None 0.011612021857923498 0.0047814207650273225 0.015710382513661202\r\n",
      "   0.010245901639344262 0.015710382513661202 0.024590163934426229\r\n",
      "   0.013661202185792349 0.0054644808743169399 None]\r\n",
      "  [None None None None None None None None None None]]\r\n",
      "\r\n",
      " [[None None None None None None None None None None]\r\n",
      "  [None 0.0040983606557377051 0.11475409836065574 0.23565573770491802\r\n",
      "   0.30122950819672129 0.24658469945355188 0.19535519125683057\r\n",
      "   0.13046448087431695 0.049180327868852458 None]\r\n",
      "  [None 0.012978142076502733 0.051912568306010931 0.16051912568306012\r\n",
      "   0.20969945355191255 0.14685792349726776 0.11270491803278689\r\n",
      "   0.10314207650273223 0.059426229508196725 None]\r\n",
      "  [None 0.0054644808743169399 0.040983606557377046 0.089480874316939893\r\n",
      "   0.12978142076502733 0.11407103825136612 0.07513661202185791\r\n",
      "   0.079234972677595619 0.053278688524590168 None]\r\n",
      "  [None 0.01092896174863388 0.027322404371584702 0.060109289617486329\r\n",
      "   0.055327868852459015 0.056693989071038252 0.045081967213114749\r\n",
      "   0.053961748633879786 0.045081967213114749 None]\r\n",
      "  [None 0.0088797814207650268 0.017759562841530054 0.036885245901639351\r\n",
      "   0.023907103825136611 0.036885245901639344 0.030054644808743172\r\n",
      "   0.025956284153005466 0.022540983606557378 None]\r\n",
      "  [None 0.030054644808743172 0.020491803278688523 0.032103825136612023\r\n",
      "   0.017076502732240439 0.022540983606557378 0.031420765027322405\r\n",
      "   0.02185792349726776 0.016393442622950821 None]\r\n",
      "  [None 0.018442622950819668 0.01912568306010929 0.025273224043715844\r\n",
      "   0.015710382513661202 0.021857923497267756 0.018442622950819672\r\n",
      "   0.013661202185792349 0.0095628415300546433 None]\r\n",
      "  [None 0.023907103825136611 0.019125683060109294 0.018442622950819668\r\n",
      "   0.01092896174863388 0.025273224043715847 0.015027322404371586\r\n",
      "   0.032786885245901641 0.0075136612021857929 None]\r\n",
      "  [None None None None None None None None None None]]\r\n",
      "\r\n",
      " [[None None None None None None None None None None]\r\n",
      "  [None 0.021174863387978141 0.085382513661202183 0.14822404371584699\r\n",
      "   0.20969945355191258 0.14344262295081966 0.10040983606557376\r\n",
      "   0.066939890710382505 0.017759562841530054 None]\r\n",
      "  [None 0.0068306010928961755 0.045765027322404374 0.13183060109289615\r\n",
      "   0.16939890710382513 0.13866120218579236 0.081967213114754092\r\n",
      "   0.055327868852459015 0.033469945355191252 None]\r\n",
      "  [None 0.0068306010928961746 0.034153005464480878 0.11748633879781421\r\n",
      "   0.17486338797814208 0.099726775956284153 0.051229508196721306\r\n",
      "   0.034153005464480878 0.045765027322404367 None]\r\n",
      "  [None 0.016393442622950821 0.047814207650273229 0.11953551912568305\r\n",
      "   0.12226775956284154 0.081284153005464474 0.041666666666666664\r\n",
      "   0.036202185792349732 0.024590163934426226 None]\r\n",
      "  [None 0.0088797814207650268 0.030054644808743165 0.05737704918032787\r\n",
      "   0.069672131147540992 0.055327868852459015 0.034153005464480878\r\n",
      "   0.024590163934426226 0.015710382513661202 None]\r\n",
      "  [None 0.011612021857923496 0.049863387978142076 0.043032786885245901\r\n",
      "   0.030054644808743172 0.030054644808743165 0.031420765027322405\r\n",
      "   0.023224043715846993 0.015710382513661202 None]\r\n",
      "  [None 0.020491803278688523 0.030054644808743165 0.041666666666666664\r\n",
      "   0.034836065573770496 0.014344262295081968 0.02185792349726776\r\n",
      "   0.0061475409836065573 0.0081967213114754103 None]\r\n",
      "  [None 0.024590163934426229 0.031420765027322405 0.031420765027322405\r\n",
      "   0.025956284153005462 0.028688524590163935 0.0095628415300546433\r\n",
      "   0.015027322404371586 0.0034153005464480878 None]\r\n",
      "  [None None None None None None None None None None]]\r\n",
      "\r\n",
      " [[None None None None None None None None None None]\r\n",
      "  [None 0.0088797814207650268 0.045081967213114756 0.1209016393442623\r\n",
      "   0.16803278688524589 0.12363387978142075 0.0662568306010929\r\n",
      "   0.044398907103825137 0.015710382513661202 None]\r\n",
      "  [None 0.0047814207650273234 0.055327868852459015 0.093579234972677602\r\n",
      "   0.096311475409836048 0.15095628415300547 0.078551912568306001\r\n",
      "   0.020491803278688523 0.021174863387978141 None]\r\n",
      "  [None 0.01092896174863388 0.029371584699453553 0.14685792349726776\r\n",
      "   0.14412568306010928 0.1243169398907104 0.030054644808743172\r\n",
      "   0.020491803278688523 0.022540983606557374 None]\r\n",
      "  [None 0.013661202185792351 0.052595628415300542 0.10245901639344263\r\n",
      "   0.11816939890710382 0.0662568306010929 0.028688524590163939\r\n",
      "   0.021174863387978138 0.017759562841530057 None]\r\n",
      "  [None 0.0088797814207650268 0.042349726775956283 0.067622950819672123\r\n",
      "   0.064890710382513664 0.049863387978142076 0.028688524590163935\r\n",
      "   0.029371584699453546 0.021174863387978141 None]\r\n",
      "  [None 0.015710382513661202 0.036202185792349725 0.053278688524590168\r\n",
      "   0.051912568306010931 0.044398907103825137 0.044398907103825137\r\n",
      "   0.028688524590163935 0.0068306010928961746 None]\r\n",
      "  [None 0.0068306010928961746 0.017759562841530057 0.043032786885245901\r\n",
      "   0.025956284153005466 0.010245901639344262 0.016393442622950821\r\n",
      "   0.009562841530054645 0.0 None]\r\n",
      "  [None 0.0075136612021857912 0.017076502732240435 0.028005464480874317\r\n",
      "   0.028688524590163935 0.041666666666666664 0.015027322404371586\r\n",
      "   0.0040983606557377051 0.0020491803278688526 None]\r\n",
      "  [None None None None None None None None None None]]\r\n",
      "\r\n",
      " [[None None None None None None None None None None]\r\n",
      "  [None None None None None None None None None None]\r\n",
      "  [None None None None None None None None None None]\r\n",
      "  [None None None None None None None None None None]\r\n",
      "  [None None None None None None None None None None]\r\n",
      "  [None None None None None None None None None None]\r\n",
      "  [None None None None None None None None None None]\r\n",
      "  [None None None None None None None None None None]\r\n",
      "  [None None None None None None None None None None]\r\n",
      "  [None None None None None None None None None None]]]\r\n"
     ]
    }
   ],
   "source": [
    "! mpirun -n 16 python3 searchlight_srm_example.py"
   ]
  },
  {
   "cell_type": "markdown",
   "metadata": {
    "collapsed": true
   },
   "source": [
    "### Get Whole Brain Mask"
   ]
  },
  {
   "cell_type": "code",
   "execution_count": 11,
   "metadata": {
    "collapsed": false
   },
   "outputs": [],
   "source": [
    "wbmask_fname = 'data/MNI152_T1_3mm_brain_mask.nii'\n",
    "mask = nib.load(wbmask_fname)\n",
    "affine = mask.affine\n",
    "mask = mask.get_data()\n",
    "zeromaskidx = mask <= 0"
   ]
  },
  {
   "cell_type": "markdown",
   "metadata": {},
   "source": [
    "### Get Accuracy Map"
   ]
  },
  {
   "cell_type": "code",
   "execution_count": 12,
   "metadata": {
    "collapsed": true
   },
   "outputs": [],
   "source": [
    "acc_path = 'data/searchlight_srm_tsm_acc.npz'\n",
    "acc_file = np.load(acc_path)\n",
    "acc_map = acc_file['acc']"
   ]
  },
  {
   "cell_type": "markdown",
   "metadata": {},
   "source": [
    "### Map to MNI Space"
   ]
  },
  {
   "cell_type": "code",
   "execution_count": 13,
   "metadata": {
    "collapsed": true
   },
   "outputs": [],
   "source": [
    "# Parameters\n",
    "ds = 6 #the dataset we provided was downsampled by 6\n",
    "mni_shape = [61,73,61]\n",
    "min_size  = [1,7,0] # min and max of nonzeros\n",
    "max_size  = [59,65,58]\n",
    "acc_mni = np.zeros_like(mask)\n",
    "# mapping (make sure length of each dimension is a multiple of 'ds')\n",
    "acc_mni[min_size[0]-1:max_size[0]+1, min_size[1]-1:max_size[1]+1, min_size[2]:max_size[2]+2] = \\\n",
    "acc_map.repeat(ds, axis=0).repeat(ds, axis=1).repeat(ds, axis=2)\n",
    "\n",
    "# if no downsampling\n",
    "#acc_mni[min_size[0]:max_size[0], min_size[1]:max_size[1], min_size[2]:max_size[2]] = acc_map\n",
    "\n",
    "# mask\n",
    "acc_mni[zeromaskidx] = 0"
   ]
  },
  {
   "cell_type": "markdown",
   "metadata": {},
   "source": [
    "### Save accuracy map"
   ]
  },
  {
   "cell_type": "code",
   "execution_count": 14,
   "metadata": {
    "collapsed": true
   },
   "outputs": [],
   "source": [
    "out_path = 'data/searchlight_srm_tsm_acc_mni.nii'\n",
    "acc_img = nib.Nifti1Image(acc_mni, affine)\n",
    "nib.save(acc_img, out_path)"
   ]
  },
  {
   "cell_type": "markdown",
   "metadata": {},
   "source": [
    "### Visualize Results"
   ]
  },
  {
   "cell_type": "code",
   "execution_count": 15,
   "metadata": {
    "collapsed": false
   },
   "outputs": [
    {
     "data": {
      "text/plain": [
       "<nilearn.plotting.displays.OrthoSlicer at 0x114d8dda0>"
      ]
     },
     "execution_count": 15,
     "metadata": {},
     "output_type": "execute_result"
    },
    {
     "data": {
      "image/png": "[encoded data removed]",
      "text/plain": [
       "<matplotlib.figure.Figure at 0x106f14cf8>"
      ]
     },
     "metadata": {},
     "output_type": "display_data"
    }
   ],
   "source": [
    "plotting.plot_stat_map(out_path)"
   ]
  },
  {
   "cell_type": "code",
   "execution_count": null,
   "metadata": {
    "collapsed": true
   },
   "outputs": [],
   "source": []
  }
 ],
 "metadata": {
  "kernelspec": {
   "display_name": "Python 3.5 Tensorflow",
   "language": "python",
   "name": "python35"
  },
  "language_info": {
   "codemirror_mode": {
    "name": "ipython",
    "version": 3
   },
   "file_extension": ".py",
   "mimetype": "text/x-python",
   "name": "python",
   "nbconvert_exporter": "python",
   "pygments_lexer": "ipython3",
   "version": "3.5.2"
  }
 },
 "nbformat": 4,
 "nbformat_minor": 2
}
