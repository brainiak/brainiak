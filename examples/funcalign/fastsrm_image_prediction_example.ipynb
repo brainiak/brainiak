{
 "cells": [
  {
   "cell_type": "markdown",
   "metadata": {},
   "source": [
    "Import some libraries that we will need"
   ]
  },
  {
   "cell_type": "code",
   "execution_count": 48,
   "metadata": {},
   "outputs": [],
   "source": [
    "%matplotlib inline\n",
    "import scipy.io\n",
    "from scipy.stats import stats\n",
    "from sklearn.metrics import confusion_matrix\n",
    "from sklearn.svm import NuSVC\n",
    "import numpy as np\n",
    "from nilearn.datasets import fetch_atlas_basc_multiscale_2015\n",
    "from nilearn.input_data import MultiNiftiMasker\n",
    "import nibabel\n",
    "from nilearn.image import new_img_like"
   ]
  },
  {
   "cell_type": "markdown",
   "metadata": {},
   "source": [
    "Run SRM with the movie data"
   ]
  },
  {
   "cell_type": "code",
   "execution_count": 49,
   "metadata": {},
   "outputs": [
    {
     "name": "stdout",
     "output_type": "stream",
     "text": [
      "Help on class FastSRM in module brainiak.funcalign.fastsrm:\n",
      "\n",
      "class FastSRM(sklearn.base.BaseEstimator, sklearn.base.TransformerMixin)\n",
      " |  FastSRM(atlas, n_components=20, n_iter=100, temp_dir=None, low_ram=False, random_state=None, n_jobs=1, verbose='warn')\n",
      " |  \n",
      " |  SRM decomposition using a very low amount of memory and\n",
      " |  computational power\n",
      " |  \n",
      " |  Given multi-subject data, factorize it as a shared response S among all\n",
      " |  subjects and an orthogonal transform (basis) W per subject:\n",
      " |  \n",
      " |  .. math:: X_i \\approx W_i S, \\forall i=1 \\dots N\n",
      " |  \n",
      " |  Parameters\n",
      " |  ----------\n",
      " |  \n",
      " |  atlas :  array, shape=[n_supervoxels, n_voxels] or array, shape=[n_voxels]\n",
      " |      Probabilistic or deterministic atlas on which to project the data\n",
      " |      Deterministic atlas is an array of shape [n_voxels,] where values\n",
      " |      range from 1 to n_supervoxels. Voxels labelled 0 will be ignored.\n",
      " |  \n",
      " |  n_components : int\n",
      " |      Number of timecourses of the shared coordinates\n",
      " |  \n",
      " |  n_iter : int\n",
      " |      Number of iterations to perform\n",
      " |  \n",
      " |  temp_dir : str or None\n",
      " |      path to dir where temporary results are stored\n",
      " |      if None temporary results will be stored in memory. This\n",
      " |      can results in memory errors when the number of subjects\n",
      " |      and / or sessions is large\n",
      " |  \n",
      " |  low_ram : bool\n",
      " |      if True and temp_dir is not None, reduced_data will be saved on disk\n",
      " |      this increases the number of IO but reduces memory complexity when\n",
      " |      the number of subject and / or sessions is large\n",
      " |  \n",
      " |  random_state : int or RandomState\n",
      " |      Pseudo number generator state used for random sampling.\n",
      " |  \n",
      " |  n_jobs : int, optional, default=1\n",
      " |      The number of CPUs to use to do the computation.\n",
      " |       -1 means all CPUs, -2 all CPUs but one, and so on.\n",
      " |  \n",
      " |  verbose : bool or \"warn\"\n",
      " |      if True, logs are enabled.\n",
      " |      if False, logs are disabled.\n",
      " |      if \"warn\" only warnings are printed.\n",
      " |  \n",
      " |  Attributes\n",
      " |  ----------\n",
      " |  \n",
      " |  `basis_list`: list of array, element i has shape=[n_components, n_voxels]\n",
      " |   or list of str\n",
      " |      basis of all subjects, element i is the basis of subject i\n",
      " |      or path to basis of all subjects, element i is the path to the\n",
      " |      basis of subject i\n",
      " |  \n",
      " |  Method resolution order:\n",
      " |      FastSRM\n",
      " |      sklearn.base.BaseEstimator\n",
      " |      sklearn.base.TransformerMixin\n",
      " |      builtins.object\n",
      " |  \n",
      " |  Methods defined here:\n",
      " |  \n",
      " |  __init__(self, atlas, n_components=20, n_iter=100, temp_dir=None, low_ram=False, random_state=None, n_jobs=1, verbose='warn')\n",
      " |      Initialize self.  See help(type(self)) for accurate signature.\n",
      " |  \n",
      " |  fit(self, imgs)\n",
      " |      Computes basis across subjects from input imgs\n",
      " |      \n",
      " |      Parameters\n",
      " |      ----------\n",
      " |      \n",
      " |      imgs : array of str, shape=[n_subjects, n_sessions]\n",
      " |          Element i, j of the array is a path to the data of subject i\n",
      " |          collected during session j.\n",
      " |          Data are loaded with numpy.load and expected\n",
      " |          shape is [n_timeframes, n_voxels]\n",
      " |          n_timeframes and n_voxels are assumed to be the same across\n",
      " |          subjects\n",
      " |          n_timeframes can vary across sessions\n",
      " |          Each voxel's timecourse is assumed to have mean 0 and variance 1\n",
      " |      \n",
      " |      Returns\n",
      " |      -------\n",
      " |      self : object\n",
      " |         Returns the instance itself. Contains attributes listed\n",
      " |         at the object level.\n",
      " |  \n",
      " |  fit_transform(self, imgs, **fit_params)\n",
      " |      Computes basis across subjects and shared response from input imgs\n",
      " |      return shared response.\n",
      " |      \n",
      " |      Parameters\n",
      " |      ----------\n",
      " |      imgs : array of str, shape=[n_subjects, n_sessions]\n",
      " |          Element i, j of the array is a path to the data of subject i\n",
      " |          collected during session j.\n",
      " |          Data are loaded with numpy.load and expected\n",
      " |          shape is [n_timeframes, n_voxels]\n",
      " |          n_timeframes and n_voxels are assumed to be the same across\n",
      " |          subjects\n",
      " |          n_timeframes can vary across sessions\n",
      " |          Each voxel's timecourse is assumed to have mean 0 and variance 1\n",
      " |      \n",
      " |      Returns\n",
      " |      --------\n",
      " |      shared_response_list : list of array, element i has\n",
      " |       shape=[n_timeframes, n_components]\n",
      " |          shared response, element i is the shared response during session i\n",
      " |  \n",
      " |  inverse_transform(self, shared_response_list, subjects_indexes=None, sessions_indexes=None)\n",
      " |      From shared response and basis from training data\n",
      " |      reconstruct subject's data\n",
      " |      \n",
      " |      Parameters\n",
      " |      ----------\n",
      " |      \n",
      " |      shared_response_list : list of array, element i has\n",
      " |      shape=[n_timeframes, n_components]\n",
      " |          shared response, element i is the shared response during session i\n",
      " |      \n",
      " |      subjects_indexes : list or None\n",
      " |          if None reconstructs data of all subjects' used during train\n",
      " |          otherwise reconstructs data using subject's specified by\n",
      " |          subjects_indexes\n",
      " |      \n",
      " |      sessions_indexes : list or None\n",
      " |          if None reconstructs data using all sessions\n",
      " |          otherwise uses only specified sessions\n",
      " |      \n",
      " |      Returns\n",
      " |      -------\n",
      " |      reconstructed_data: array\n",
      " |      shape=[len(subjects_indexes), len(sessions_indexes),\n",
      " |      n_timeframes, n_voxels]\n",
      " |          Reconstructed data for chosen subjects and sessions\n",
      " |  \n",
      " |  transform(self, imgs, subjects_indexes=None)\n",
      " |      From data in imgs and basis from training data,\n",
      " |      computes shared response.\n",
      " |      \n",
      " |      Parameters\n",
      " |      ----------\n",
      " |      \n",
      " |      imgs : array of str, shape=[n_subjects, n_sessions]\n",
      " |          Element i, j of the array is a path to the data of subject i\n",
      " |          collected during session j.\n",
      " |          Data are loaded with numpy.load and expected\n",
      " |          shape is [n_timeframes, n_voxels]\n",
      " |          n_timeframes and n_voxels are assumed to be the same across\n",
      " |          subjects\n",
      " |          n_timeframes can vary across sessions\n",
      " |          Each voxel's timecourse is assumed to have mean 0 and variance 1\n",
      " |      \n",
      " |      \n",
      " |      subjects_indexes : list or None:\n",
      " |          if None imgs[i] will be transformed using basis[i]\n",
      " |          otherwise imgs[i] will be transformed using\n",
      " |          basis[subjects_index[i]]\n",
      " |      \n",
      " |      Returns\n",
      " |      -------\n",
      " |      shared_response_list : list of array, element i has\n",
      " |      shape=[n_timeframes, n_components]\n",
      " |          shared response, element i is the shared response during session i\n",
      " |  \n",
      " |  ----------------------------------------------------------------------\n",
      " |  Methods inherited from sklearn.base.BaseEstimator:\n",
      " |  \n",
      " |  __getstate__(self)\n",
      " |  \n",
      " |  __repr__(self)\n",
      " |      Return repr(self).\n",
      " |  \n",
      " |  __setstate__(self, state)\n",
      " |  \n",
      " |  get_params(self, deep=True)\n",
      " |      Get parameters for this estimator.\n",
      " |      \n",
      " |      Parameters\n",
      " |      ----------\n",
      " |      deep : boolean, optional\n",
      " |          If True, will return the parameters for this estimator and\n",
      " |          contained subobjects that are estimators.\n",
      " |      \n",
      " |      Returns\n",
      " |      -------\n",
      " |      params : mapping of string to any\n",
      " |          Parameter names mapped to their values.\n",
      " |  \n",
      " |  set_params(self, **params)\n",
      " |      Set the parameters of this estimator.\n",
      " |      \n",
      " |      The method works on simple estimators as well as on nested objects\n",
      " |      (such as pipelines). The latter have parameters of the form\n",
      " |      ``<component>__<parameter>`` so that it's possible to update each\n",
      " |      component of a nested object.\n",
      " |      \n",
      " |      Returns\n",
      " |      -------\n",
      " |      self\n",
      " |  \n",
      " |  ----------------------------------------------------------------------\n",
      " |  Data descriptors inherited from sklearn.base.BaseEstimator:\n",
      " |  \n",
      " |  __dict__\n",
      " |      dictionary for instance variables (if defined)\n",
      " |  \n",
      " |  __weakref__\n",
      " |      list of weak references to the object (if defined)\n",
      "\n"
     ]
    }
   ],
   "source": [
    "import brainiak.funcalign.fastsrm\n",
    "help(brainiak.funcalign.fastsrm.FastSRM)"
   ]
  },
  {
   "cell_type": "markdown",
   "metadata": {},
   "source": [
    "Load the input data that contains the movie stimuli for unsupervised training with SRM"
   ]
  },
  {
   "cell_type": "code",
   "execution_count": 50,
   "metadata": {},
   "outputs": [],
   "source": [
    "movie_file = scipy.io.loadmat('data/movie_data.mat')"
   ]
  },
  {
   "cell_type": "markdown",
   "metadata": {},
   "source": [
    "Convert data to a arrays matching FastSRM input.\n",
    "FastSRM is designed to work on large datasets where all data are not assumed to hold in memory. Therefore it takes as input npy files and not matrices.\n",
    "Files should be loaded with np.load and represent matrix of TRs by voxels. "
   ]
  },
  {
   "cell_type": "code",
   "execution_count": 51,
   "metadata": {},
   "outputs": [
    {
     "data": {
      "text/plain": [
       "(10, 1)"
      ]
     },
     "execution_count": 51,
     "metadata": {},
     "output_type": "execute_result"
    }
   ],
   "source": [
    "movie_data_left = movie_file['movie_data_lh']\n",
    "movie_data_right = movie_file['movie_data_rh']\n",
    "subjects = movie_data_left.shape[2]\n",
    "movie_data = []\n",
    "\n",
    "# We treat these data as having only one session\n",
    "paths = []\n",
    "for s in range(subjects):\n",
    "    # concatenate data from both hemisphere\n",
    "    data_s = np.concatenate([movie_data_left[:, :, s], movie_data_right[:, :, s]], axis=0)\n",
    "    # zscore the data\n",
    "    data_s = stats.zscore(data_s,axis=1,ddof=1)\n",
    "    # input should be n_timeframes x n_voxels to match with \n",
    "    # n_samples, n_features framework of sklearn\n",
    "    data_s = data_s.T\n",
    "    np.save(\n",
    "        \"data/movie_subject_%i\" % s,\n",
    "        data_s\n",
    "    )\n",
    "    _, n_voxels = data_s.shape\n",
    "    paths.append([\"data/movie_subject_%i.npy\" % s])\n",
    "paths = np.array(paths)\n",
    "\n",
    "# paths is now an array of shape (number_of_subjects, number_of_sessions)\n",
    "paths.shape"
   ]
  },
  {
   "cell_type": "markdown",
   "metadata": {},
   "source": [
    "Run FastSRM "
   ]
  },
  {
   "cell_type": "code",
   "execution_count": 52,
   "metadata": {},
   "outputs": [],
   "source": [
    "# Let's use a naive probabilistic atlas (all voxels are used)\n",
    "# In practice one would choose an off-the-shelf atlas like\n",
    "# nilearn.datasets.fetch_atlas_basc_multiscale_2015\n",
    "A = np.eye(n_voxels)"
   ]
  },
  {
   "cell_type": "code",
   "execution_count": 53,
   "metadata": {},
   "outputs": [
    {
     "name": "stderr",
     "output_type": "stream",
     "text": [
      "temp_dir has value None. All basis (spatial maps) and reconstructed data will therefore be kept in memory.This can lead to memory errors when the number of subjects and/or sessions is large.\n"
     ]
    },
    {
     "data": {
      "text/plain": [
       "FastSRM(atlas=array([[1., 0., ..., 0., 0.],\n",
       "       [0., 1., ..., 0., 0.],\n",
       "       ...,\n",
       "       [0., 0., ..., 1., 0.],\n",
       "       [0., 0., ..., 0., 1.]]),\n",
       "    low_ram=False, n_components=50, n_iter=100, n_jobs=1,\n",
       "    random_state=None, temp_dir=None, verbose='warn')"
      ]
     },
     "execution_count": 53,
     "metadata": {},
     "output_type": "execute_result"
    }
   ],
   "source": [
    "srm = brainiak.funcalign.fastsrm.FastSRM(n_components=50, atlas=A)\n",
    "srm.fit(paths)"
   ]
  },
  {
   "cell_type": "markdown",
   "metadata": {},
   "source": [
    "Load the input data that contains the image stimuli and its labels for training a classifier"
   ]
  },
  {
   "cell_type": "code",
   "execution_count": 54,
   "metadata": {},
   "outputs": [],
   "source": [
    "image_file = scipy.io.loadmat('data/image_data.mat')\n",
    "image_data_left = image_file['image_data_lh']\n",
    "image_data_right = image_file['image_data_rh']"
   ]
  },
  {
   "cell_type": "markdown",
   "metadata": {},
   "source": [
    "Convert data to a list of arrays matching FastSRM input. Each element is a path to a matrix of TRs by voxels. Also, concatenate data from both hemispheres in the brain."
   ]
  },
  {
   "cell_type": "code",
   "execution_count": 55,
   "metadata": {},
   "outputs": [],
   "source": [
    "image_data = []\n",
    "for s in range(subjects):\n",
    "    im_data = np.concatenate([image_data_left[:, :, s], image_data_right[:, :, s]], axis=0)\n",
    "    im_data = stats.zscore(im_data,axis=1,ddof=1)\n",
    "    im_data = im_data.T\n",
    "    np.save(\n",
    "        \"data/image_subject_%i\" % s,\n",
    "        im_data\n",
    "    )\n",
    "    image_data.append([\"data/image_subject_%i.npy\" % s])\n",
    "image_data = np.array(image_data)"
   ]
  },
  {
   "cell_type": "markdown",
   "metadata": {},
   "source": [
    "Z-score the Shared Response data"
   ]
  },
  {
   "cell_type": "code",
   "execution_count": 56,
   "metadata": {},
   "outputs": [],
   "source": [
    "image_data_shared = [None] * subjects\n",
    "for subject in range(subjects):\n",
    "    image_data_shared[subject] = srm.transform(\n",
    "        np.array([image_data[subject]]),\n",
    "        subjects_indexes=[subject]\n",
    "    )[0]\n",
    "    image_data_shared[subject] = stats.zscore(image_data_shared[subject].T, axis=1, ddof=1)"
   ]
  },
  {
   "cell_type": "markdown",
   "metadata": {},
   "source": [
    "Read the labels of the image data"
   ]
  },
  {
   "cell_type": "code",
   "execution_count": 57,
   "metadata": {},
   "outputs": [],
   "source": [
    "labels = scipy.io.loadmat('data/label.mat')\n",
    "labels = np.squeeze(labels['label'])"
   ]
  },
  {
   "cell_type": "markdown",
   "metadata": {},
   "source": [
    "Run a leave-one-out cross validation with the subjects. We use a $\\nu$-SVM classifier."
   ]
  },
  {
   "cell_type": "code",
   "execution_count": 58,
   "metadata": {},
   "outputs": [],
   "source": [
    "train_labels = np.tile(labels, subjects-1)\n",
    "test_labels = labels\n",
    "accuracy = np.zeros((subjects))\n",
    "cm = [None] * subjects\n",
    "for subject in range(subjects):\n",
    "    # Concatenate the subjects' data for training into one matrix\n",
    "    train_subjects = list(range(subjects))\n",
    "    train_subjects.remove(subject)\n",
    "    TRs = image_data_shared[0].shape[1]\n",
    "    train_data = np.zeros((image_data_shared[0].shape[0], len(train_labels)))\n",
    "    for train_subject in range(len(train_subjects)):\n",
    "        start_index = train_subject*TRs\n",
    "        end_index = start_index+TRs\n",
    "        train_data[:, start_index:end_index] = image_data_shared[train_subjects[train_subject]]\n",
    "\n",
    "    # Train a Nu-SVM classifier using scikit learn\n",
    "    classifier = NuSVC(nu=0.5, kernel='linear')\n",
    "    classifier = classifier.fit(train_data.T, train_labels)\n",
    "\n",
    "    # Predict on the test data\n",
    "    predicted_labels = classifier.predict(image_data_shared[subject].T)\n",
    "    accuracy[subject] = sum(predicted_labels == test_labels)/float(len(predicted_labels))\n",
    "\n",
    "    # Create a confusion matrix to see the accuracy of each class\n",
    "    cm[subject] = confusion_matrix(test_labels, predicted_labels)\n",
    "\n",
    "    # Normalize the confusion matrix\n",
    "    cm[subject] = cm[subject].astype('float') / cm[subject].sum(axis=1)[:, np.newaxis]"
   ]
  },
  {
   "cell_type": "markdown",
   "metadata": {},
   "source": [
    "Define a function that presents the output of the experiment in a plot"
   ]
  },
  {
   "cell_type": "code",
   "execution_count": 59,
   "metadata": {},
   "outputs": [],
   "source": [
    "def plot_confusion_matrix(cm, title=\"Confusion Matrix\"):\n",
    "    \"\"\"Plots a confusion matrix for each subject\"\"\"\n",
    "    import matplotlib.pyplot as plt\n",
    "    import math\n",
    "    plt.figure()\n",
    "    subjects = len(cm)\n",
    "    root_subjects = math.sqrt(subjects)\n",
    "    cols = math.ceil(root_subjects)\n",
    "    rows = math.ceil(subjects/cols)\n",
    "    classes = cm[0].shape[0]\n",
    "    for subject in range(subjects):\n",
    "        plt.subplot(rows, cols, subject+1)\n",
    "        plt.imshow(cm[subject], interpolation='nearest', cmap=plt.cm.bone)\n",
    "        plt.xticks(np.arange(classes), range(1,classes+1))\n",
    "        plt.yticks(np.arange(classes), range(1,classes+1))\n",
    "        cbar = plt.colorbar(ticks=[0.0,1.0], shrink=0.6)\n",
    "        cbar.set_clim(0.0, 1.0)\n",
    "        plt.xlabel(\"Predicted\")\n",
    "        plt.ylabel(\"True label\")\n",
    "        plt.title(\"{0:d}\".format(subject + 1))\n",
    "    plt.suptitle(title)\n",
    "    plt.tight_layout()\n",
    "    plt.show()"
   ]
  },
  {
   "cell_type": "markdown",
   "metadata": {},
   "source": [
    " Plot the confusion matrices and print the accuracy results"
   ]
  },
  {
   "cell_type": "code",
   "execution_count": 60,
   "metadata": {},
   "outputs": [
    {
     "data": {
      "image/png": "[encoded data removed]",
      "text/plain": [
       "<Figure size 432x288 with 20 Axes>"
      ]
     },
     "metadata": {
      "needs_background": "light"
     },
     "output_type": "display_data"
    },
    {
     "name": "stdout",
     "output_type": "stream",
     "text": [
      "The average accuracy among all subjects is 0.671429 +/- 0.065465\n"
     ]
    }
   ],
   "source": [
    "plot_confusion_matrix(cm, title=\"Confusion matrices for different test subjects\")\n",
    "print(\"The average accuracy among all subjects is {0:f} +/- {1:f}\".format(np.mean(accuracy), np.std(accuracy)))"
   ]
  }
 ],
 "metadata": {
  "kernelspec": {
   "display_name": "Python 3",
   "language": "python",
   "name": "python3"
  },
  "language_info": {
   "codemirror_mode": {
    "name": "ipython",
    "version": 3
   },
   "file_extension": ".py",
   "mimetype": "text/x-python",
   "name": "python",
   "nbconvert_exporter": "python",
   "pygments_lexer": "ipython3",
   "version": "3.7.1"
  }
 },
 "nbformat": 4,
 "nbformat_minor": 1
}
