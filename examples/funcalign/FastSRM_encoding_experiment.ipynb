{
 "cells": [
  {
   "cell_type": "markdown",
   "metadata": {},
   "source": [
    "# Encoding experiment using FastSRM"
   ]
  },
  {
   "cell_type": "markdown",
   "metadata": {},
   "source": [
    "We train the model on a train session learning how to transfer data between subjects' space and shared space.\n",
    "On a test session we use all subjects but one to compute the shared response and use this shared response to predict data from the test subject. We use R2 score as a measure of performance."
   ]
  },
  {
   "cell_type": "markdown",
   "metadata": {},
   "source": [
    "# Real fMRI data"
   ]
  },
  {
   "cell_type": "markdown",
   "metadata": {},
   "source": [
    "Next, we'll download a publicly available fMRI dataset and run SRM on these data. This dataset comprises fMRI data for 20 subjects listening to the spoken story Pie Man by Jim O'Grady (archived on the Princeton DataSpace). Note that we use 20 subjects to minimize computational demands for this tutorial and recommend larger sample sizes for publication. The gzipped data archive file is ~1.5 GB in size, and may take a couple minutes to download and unzip. The functional data were acquired with 3 x 3 x 4 mm voxels and 1.5 s TRs. Data were preprocessed using fMRIPrep (Esteban et al., 2018), including spatial normalization to MNI space (the T1-weighted ICBM 2009c Nonlinear Asymmetric template). The data were then smoothed to 6 mm FWHM using AFNI's 3dBlurToFWHM (Cox, 1996). The following confound variables were regressed out using 3dTproject: six head motion parameters (and their first derivatives), framewise displacement, six prinicipal components from an anatomical mask of cerebrospinal fluid (CSF) and white matter, sine/cosine bases for high-pass filtering (cutoff: 0.00714 Hz; 140 s), as well as a linear and quadratic trends. The anatomical template and a brain mask (i.e., excluding skull) are supplied as well. These have been resampled to match resolution of the functional images."
   ]
  },
  {
   "cell_type": "code",
   "execution_count": 1,
   "metadata": {},
   "outputs": [],
   "source": [
    "from urllib.request import urlretrieve\n",
    "from time import time\n",
    "from glob import glob\n",
    "from os.path import join\n",
    "import nibabel\n",
    "from nilearn.image import new_img_like\n",
    "from nilearn.input_data import NiftiMasker, MultiNiftiMasker\n",
    "import numpy as np\n",
    "from joblib import Parallel, delayed\n",
    "from nilearn.plotting import plot_stat_map\n",
    "import matplotlib.pyplot as plt"
   ]
  },
  {
   "cell_type": "code",
   "execution_count": 2,
   "metadata": {},
   "outputs": [
    {
     "name": "stdout",
     "output_type": "stream",
     "text": [
      "Done in 643.28 seconds\n"
     ]
    }
   ],
   "source": [
    "# Download data tarball from Princeton DataSpace\n",
    "t0 = time()\n",
    "urlretrieve('https://dataspace.princeton.edu/jspui/bitstream/'\n",
    "            '88435/dsp01dz010s83s/6/pieman-isc-tutorial.tgz',\n",
    "            'data_fastsrm.tgz');\n",
    "!tar -xzf data_fastsrm.tgz\n",
    "print(\"Done in %.2f seconds\" % (time() - t0))"
   ]
  },
  {
   "cell_type": "markdown",
   "metadata": {},
   "source": [
    "# Step 1: Mask and save the data\n",
    "- We split our data into two sessions (in order to be able to perform our encoding experiment)\n",
    "- We mask the data and save them into .npy file"
   ]
  },
  {
   "cell_type": "code",
   "execution_count": 3,
   "metadata": {},
   "outputs": [
    {
     "name": "stderr",
     "output_type": "stream",
     "text": [
      "[Parallel(n_jobs=4)]: Using backend LokyBackend with 4 concurrent workers.\n",
      "[Parallel(n_jobs=4)]: Done   5 tasks      | elapsed:   16.7s\n",
      "[Parallel(n_jobs=4)]: Done  10 tasks      | elapsed:   24.7s\n",
      "[Parallel(n_jobs=4)]: Done  16 out of  20 | elapsed:   32.7s remaining:    8.2s\n"
     ]
    },
    {
     "name": "stdout",
     "output_type": "stream",
     "text": [
      "Done in 40.33 seconds\n"
     ]
    },
    {
     "name": "stderr",
     "output_type": "stream",
     "text": [
      "[Parallel(n_jobs=4)]: Done  20 out of  20 | elapsed:   40.3s finished\n"
     ]
    }
   ],
   "source": [
    "t0 = time()\n",
    "# the directory where our data are located\n",
    "data_dir = 'pieman-isc-tutorial'\n",
    "# Filenames for MRI data; gzipped NIfTI images (.nii.gz)\n",
    "func_fns = glob(join(data_dir, ('sub-*_task-pieman_space-MNI152NLin2009cAsym'\n",
    "                                '_desc-tproject_bold.nii.gz')))\n",
    "# The mask for our data\n",
    "mask_fn = join(data_dir, 'MNI152NLin2009cAsym_desc-brain_mask.nii.gz')\n",
    "\n",
    "# Let us mask these data and separate them into two sessions\n",
    "def separate_and_mask(func):\n",
    "    # Load data\n",
    "    N = nibabel.load(func).get_data()\n",
    "    # Separate them into two sessions\n",
    "    N_1 = N[:, :, :, :250]\n",
    "    N_2 = N[:, :, :, 250:]\n",
    "    I_1 = new_img_like(func, N_1)\n",
    "    I_2 = new_img_like(func, N_2)\n",
    "    # Mask data\n",
    "    masker = NiftiMasker(\n",
    "        mask_img=mask_fn, \n",
    "        detrend=True,\n",
    "        standardize=True,\n",
    "        smoothing_fwhm=6\n",
    "    ).fit()\n",
    "    X_1 = masker.transform(I_1)\n",
    "    X_2 = masker.transform(I_2)\n",
    "    # Save data\n",
    "    np.save(func[:-7] + \"_session_1\", X_1)\n",
    "    np.save(func[:-7] + \"_session_2\", X_2)\n",
    "\n",
    "# I have 4 cores in my computer, it you have more increase n_jobs\n",
    "Parallel(n_jobs=4, verbose=10)(\n",
    "    delayed(separate_and_mask)(\n",
    "        func\n",
    "    ) for func in func_fns)\n",
    "print(\"Done in %.2f seconds\" % (time() - t0))"
   ]
  },
  {
   "cell_type": "markdown",
   "metadata": {},
   "source": [
    "# Step 2: mask and save an atlas\n",
    "- Atlases are used in FastSRM to make computation faster\n",
    "- Any off-the-shelf big atlas should work (number of regions of the atlas should be larger than number of components used in SRM) we use Basc 444 for our example"
   ]
  },
  {
   "cell_type": "code",
   "execution_count": 4,
   "metadata": {},
   "outputs": [
    {
     "name": "stdout",
     "output_type": "stream",
     "text": [
      "\n",
      "Dataset created in pieman-isc-tutorial/basc_multiscale_2015\n",
      "\n",
      "Downloading data from https://ndownloader.figshare.com/files/1861819 ...\n"
     ]
    },
    {
     "name": "stderr",
     "output_type": "stream",
     "text": [
      "\r",
      "Downloaded 193985 of 193985 bytes (100.0%,    0.0s remaining) ...done. (0 seconds, 0 min)\n",
      "Extracting data from pieman-isc-tutorial/basc_multiscale_2015/3cbcf0eeb3f666f55070aba1db9a758f/1861819..... done.\n"
     ]
    },
    {
     "name": "stdout",
     "output_type": "stream",
     "text": [
      "pieman-isc-tutorial/basc_multiscale_2015/template_cambridge_basc_multiscale_nii_sym/template_cambridge_basc_multiscale_sym_scale444.nii.gz\n",
      "Done in 26.51\n"
     ]
    }
   ],
   "source": [
    "def load_atlas(atlas, mask_img):\n",
    "    # Load masker\n",
    "    atlas_masker = MultiNiftiMasker(\n",
    "        mask_img=mask_img).fit()\n",
    "    X = nibabel.load(atlas).get_data()\n",
    "    # If the atlas is a deterministic atlas\n",
    "    # (each region is identified by a number starting from 1)\n",
    "    if len(X.shape) == 3:\n",
    "        n_components = len(np.unique(X)) - 1\n",
    "        xa, ya, za = X.shape\n",
    "        A = np.zeros((xa, ya, za, n_components + 1))\n",
    "        for c in np.unique(X)[1:].astype(int):\n",
    "            X_ = np.copy(X)\n",
    "            X_[X_ != c] = 0.\n",
    "            X_[X_ == c] = 1.\n",
    "            A[:, :, :, c] = X_\n",
    "        A = atlas_masker.transform(new_img_like(atlas, A))\n",
    "        A = np.argmax(A, axis=0)\n",
    "    # If the atlas is a probabilistic atlas\n",
    "    # (each region is assigned to a component)\n",
    "    else:\n",
    "        A = atlas_masker.transform(atlas)\n",
    "    return A\n",
    "\n",
    "t0 = time()\n",
    "from nilearn.datasets import fetch_atlas_basc_multiscale_2015\n",
    "atlas = fetch_atlas_basc_multiscale_2015(data_dir=data_dir)['scale444']\n",
    "print(atlas)\n",
    "A = load_atlas(atlas, mask_fn)\n",
    "np.save(atlas[:-7], A)\n",
    "atlas_path = atlas[:-7] + \".npy\"\n",
    "print(\"Done in %.2f\" % (time() - t0))"
   ]
  },
  {
   "cell_type": "markdown",
   "metadata": {},
   "source": [
    "### Note about input data\n",
    "\n",
    "- ProbSRM takes as input input images: a list of n_subjects np array of size (n_voxels, n_timeframes)\n",
    "- FastSRM takes as input (1) input images: a matrix of npy files of size (number of subjects, number of sessions) each file should be loadable with np.load and represents a matrix of size (n_timeframes, n_voxels) (2) an atlas: np array of shape (n_components, n_voxels) in case of probabilistic atlas and simply (n_voxels) for a deterministic atlas"
   ]
  },
  {
   "cell_type": "markdown",
   "metadata": {},
   "source": [
    "# Step 3: Fit of the model\n",
    "- Load data\n",
    "- Train model on first session"
   ]
  },
  {
   "cell_type": "code",
   "execution_count": 5,
   "metadata": {},
   "outputs": [
    {
     "name": "stdout",
     "output_type": "stream",
     "text": [
      "Input shape\n",
      "(20, 2)\n"
     ]
    }
   ],
   "source": [
    "subjects = [18, 19, 20, 21, 24, 25, 26, 28, 29, 30, 31, 32, 33, 34, 35, 36, 37, 38, 40, 42]\n",
    "sessions = [1, 2]\n",
    "\n",
    "files = np.array([\n",
    "    [glob(join(data_dir, \"sub-%.3i*_session_%i*\" %(sub, sess)))[0] \n",
    "     for sess in sessions]\n",
    "    for sub in subjects])\n",
    "\n",
    "# 20 subjects x 2 sessions file matrix\n",
    "print(\"Input shape\")\n",
    "print(files.shape)"
   ]
  },
  {
   "cell_type": "code",
   "execution_count": 6,
   "metadata": {},
   "outputs": [],
   "source": [
    "def load_and_concat(paths):\n",
    "    \"\"\"\n",
    "    Take list of path and yields input data for ProbSRM\n",
    "    Parameters\n",
    "    ----------\n",
    "    paths\n",
    "    Returns\n",
    "    -------\n",
    "    X\n",
    "    \"\"\"\n",
    "    X = []\n",
    "    for i in range(len(paths)):\n",
    "        X_i = np.concatenate([np.load(paths[i, j])\n",
    "                              for j in range(len(paths[i]))], axis=0).T\n",
    "        X.append(X_i)\n",
    "    return X"
   ]
  },
  {
   "cell_type": "code",
   "execution_count": 7,
   "metadata": {},
   "outputs": [
    {
     "name": "stdout",
     "output_type": "stream",
     "text": [
      "Fitting FastSRM\n",
      "Done in 5.49\n",
      "Fitting ProbSRM\n",
      "Done in 38.92\n"
     ]
    }
   ],
   "source": [
    "from brainiak.funcalign.fastsrm import FastSRM\n",
    "from brainiak.funcalign.srm import SRM\n",
    "# We specify\n",
    "# temp_dir: a temporary directory used to store spatial maps (this saves memory when number of subjects is big)\n",
    "#   (not really needed here but I'll use it anyway)\n",
    "# n_jobs: the number of cores to use\n",
    "# low_ram: in case you still have memory issues even when temp_dir is not None set this to True\n",
    "# n_iter: can easily be set to 100 with no difference in fitting time \n",
    "#   but we set it to 10 to be fair with ProbSRM\n",
    "\n",
    "fastsrm = FastSRM(\n",
    "    atlas=np.load(atlas_path),\n",
    "    n_components=20,\n",
    "    n_jobs=4,\n",
    "    n_iter=10,\n",
    "    temp_dir=data_dir,\n",
    "    low_ram=False\n",
    ")\n",
    "probsrm = SRM(\n",
    "    n_iter=10,\n",
    "    features=20\n",
    ")\n",
    "\n",
    "print(\"Fitting FastSRM\")\n",
    "t0 = time()\n",
    "fastsrm.fit(files[:, :1])\n",
    "print(\"Done in %.2f\" % (time() - t0))\n",
    "\n",
    "print(\"Fitting ProbSRM\")\n",
    "train_files = load_and_concat(files[:, :1])\n",
    "t0 = time()\n",
    "probsrm.fit(train_files)\n",
    "print(\"Done in %.2f\" % (time() - t0))"
   ]
  },
  {
   "cell_type": "markdown",
   "metadata": {},
   "source": [
    "# Step 4: Use the model to reconstruct data from a leftout subjects using others"
   ]
  },
  {
   "cell_type": "code",
   "execution_count": 8,
   "metadata": {},
   "outputs": [],
   "source": [
    "from sklearn.model_selection import KFold\n",
    "# List where we record test R2 scores per voxels of all subjects\n",
    "var_e_fastsrm = []\n",
    "var_e_probsrm = []\n",
    "for subjects_train, subjects_test in KFold(n_splits=5,\n",
    "                                    shuffle=True\n",
    "                                   ).split(np.arange(len(subjects))):\n",
    "    shared_response_fastsrm = fastsrm.transform(\n",
    "        files[subjects_train, :][:, 1:],\n",
    "        subjects_indexes=subjects_train\n",
    "    )\n",
    "\n",
    "    shared_response_probsrm = np.mean(\n",
    "            [load_and_concat(files[subjects_train, :][:, 1:])[i].T.dot(\n",
    "                probsrm.w_[subjects_train[i]]\n",
    "            ) for i in range(len(subjects_train))], axis=0)\n",
    "    \n",
    "    # In ProbSRM sessions are concatenated\n",
    "    Y_pred_probsrm = np.array([shared_response_probsrm.dot(probsrm.w_[s_test].T)\n",
    "             for s_test in subjects_test])\n",
    "\n",
    "    # The reconstructed data with FastSRM is a matrix of size (n_test_subjects, n_test_sessions)\n",
    "    Y_pred_fastsrm = fastsrm.inverse_transform(\n",
    "                shared_response_fastsrm,\n",
    "                subjects_indexes=subjects_test\n",
    "            )\n",
    "    # Let us make fastSRM match the shape of ProbSRM\n",
    "    Y_pred_fastsrm = Y_pred_fastsrm[:, 0, :, :]\n",
    "\n",
    "    # This is the true data we are trying to reconstruct\n",
    "    Y_true = np.array([np.load(file) for file in files[subjects_test, :][:, 1]])\n",
    "    \n",
    "    \n",
    "    for i in range(len(subjects_test)):\n",
    "        var_e = 1 - (Y_pred_fastsrm[i] - Y_true[i]).var(axis=0)\n",
    "        var_e_fastsrm.append(var_e)\n",
    "\n",
    "    \n",
    "    for i in range(len(subjects_test)):\n",
    "        var_e = 1 - (Y_pred_probsrm[i] - Y_true[i]).var(axis=0)\n",
    "        var_e_probsrm.append(var_e)"
   ]
  },
  {
   "cell_type": "markdown",
   "metadata": {},
   "source": [
    "# Step 5: Plot results"
   ]
  },
  {
   "cell_type": "code",
   "execution_count": 9,
   "metadata": {},
   "outputs": [
    {
     "name": "stdout",
     "output_type": "stream",
     "text": [
      "R2 score FastSRM: 0.088\n",
      "R2 score ProbSRM: 0.081\n"
     ]
    },
    {
     "data": {
      "image/png": "[encoded data removed]",
      "text/plain": [
       "<Figure size 842.4x165.6 with 7 Axes>"
      ]
     },
     "metadata": {},
     "output_type": "display_data"
    },
    {
     "data": {
      "image/png": "[encoded data removed]",
      "text/plain": [
       "<Figure size 842.4x165.6 with 7 Axes>"
      ]
     },
     "metadata": {},
     "output_type": "display_data"
    }
   ],
   "source": [
    "# Average test R2 scores\n",
    "var_e_fast = np.mean(var_e_fastsrm, axis=0)\n",
    "var_e_prob = np.mean(var_e_probsrm, axis=0)\n",
    "\n",
    "masker = NiftiMasker(\n",
    "        mask_img=mask_fn).fit()\n",
    "\n",
    "plot_stat_map(\n",
    "    masker.inverse_transform(var_e_fast),\n",
    "    display_mode=\"z\",\n",
    "    cut_coords=[0, 5, 10, 15, 20],\n",
    "    vmax=0.3\n",
    ")\n",
    "\n",
    "plot_stat_map(\n",
    "    masker.inverse_transform(var_e_prob),\n",
    "    display_mode=\"z\",\n",
    "    cut_coords=[0, 5, 10, 15, 20],\n",
    "    vmax=0.3\n",
    ")\n",
    "\n",
    "# R2 score in a ROI given by areas where ProbSRM performs the best\n",
    "print(\"R2 score FastSRM: %.3f\" % np.mean(var_e_fast[var_e_prob > 0.05]))\n",
    "print(\"R2 score ProbSRM: %.3f\" % np.mean(var_e_prob[var_e_prob > 0.05]))"
   ]
  }
 ],
 "metadata": {
  "kernelspec": {
   "display_name": "Python 3",
   "language": "python",
   "name": "python3"
  },
  "language_info": {
   "codemirror_mode": {
    "name": "ipython",
    "version": 3
   },
   "file_extension": ".py",
   "mimetype": "text/x-python",
   "name": "python",
   "nbconvert_exporter": "python",
   "pygments_lexer": "ipython3",
   "version": "3.7.1"
  }
 },
 "nbformat": 4,
 "nbformat_minor": 2
}
