{
 "cells": [
  {
   "cell_type": "heading",
   "metadata": {},
   "level": 1,
   "source": [
    "This example replicates the synthetic experiment in the paper\n",
    "\"Capturing Shared and Individual Information in fMRI Data\", J. Turek, C. Ellis, L. Skalaban, N. Turk-Browne, T. Willke"
   ]
  },
  {
   "cell_type": "markdown",
   "metadata": {},
   "source": [
    "Import some libraries that we will need"
   ]
  },
  {
   "cell_type": "code",
   "execution_count": null,
   "metadata": {},
   "outputs": [],
   "source": [
    "%matplotlib inline\n",
    "import scipy.io\n",
    "from scipy.stats import stats\n",
    "import numpy as np\n",
    "import brainiak.funcalign.srm.SRM as SRM\n",
    "import brainiak.funcalign.rsrm.RSRM as RSRM\n",
    "from mpl_toolkits.mplot3d import Axes3D\n",
    "import matplotlib.pyplot as plt"
   ]
  },
  {
   "cell_type": "markdown",
   "metadata": {},
   "source": [
    "Experiment setup"
   ]
  },
  {
   "cell_type": "code",
   "execution_count": null,
   "metadata": {},
   "outputs": [],
   "source": [
    "voxels = 100\n",
    "samples = 200\n",
    "subjects = 10\n",
    "features = 3\n",
    "snr = 20 # in dB"
   ]
  },
  {
   "cell_type": "markdown",
   "metadata": {},
   "source": [
    "Now we create some synthetic data"
   ]
  },
  {
   "cell_type": "code",
   "execution_count": null,
   "metadata": {},
   "outputs": [],
   "source": [
    "# Create a Shared response R with K = 3\n",
    "theta = np.linspace(-4 * np.pi, 4 * np.pi, samples)\n",
    "z = np.linspace(-2, 2, samples)\n",
    "r = z ** 2 + 1\n",
    "x = r * np.sin(theta)\n",
    "y = r * np.cos(theta)\n",
    "curve = np.vstack((x, y, z))\n",
    "print('Print curve max, min values:', np.max(curve), np.min(curve))\n",
    "\n",
    "# Create the subjects' data\n",
    "data = [None] * subjects\n",
    "W = [None] * subjects\n",
    "noise_level = 0.0\n",
    "for s in range(subjects):\n",
    "    R = curve\n",
    "    W[s], _ = np.linalg.qr(np.random.randn(voxels, 3))\n",
    "    data[s] = W[s].dot(R)\n",
    "    noise_level += np.sum(np.abs(data[s])**2)\n",
    "\n",
    "# Compute noise_sigma from desired SNR\n",
    "noise_level = noise_level / (10 ** (snr / 10))\n",
    "noise_level = np.sqrt(noise_level  / subjects / voxels / samples)\n",
    "print(noise_level)\n",
    "\n",
    "for s in range(subjects):\n",
    "    n = noise_level * np.random.randn(voxels, samples)\n",
    "    data[s] += n\n",
    "    print(20 * np.log10(np.sum(np.abs(data[s])) / np.sum(np.abs(n)) ))"
   ]
  },
  {
   "cell_type": "markdown",
   "metadata": {},
   "source": [
    "Now we fit the algorithms, SRM and RSRM, to the synthetic data"
   ]
  },
  {
   "cell_type": "code",
   "execution_count": null,
   "metadata": {},
   "outputs": [],
   "source": [
    "srm = SRM(features=3, n_iter=20)\n",
    "srm.fit(data)\n",
    "\n",
    "\n",
    "rsrm = RSRM(features=3, gamma=0.35, n_iter=20)\n",
    "rsrm.fit(data)"
   ]
  },
  {
   "cell_type": "markdown",
   "metadata": {},
   "source": [
    "The following function finds the orthogonal transform to align the shared response to the original curve."
   ]
  },
  {
   "cell_type": "code",
   "execution_count": null,
   "metadata": {},
   "outputs": [],
   "source": [
    "def find_orthogonal_transform(shared_response):\n",
    "    u,_,vt = np.linalg.svd(shared_response.dot(curve.T))\n",
    "    q = u.dot(vt)\n",
    "    aligned_curve = q.T.dot(shared_response)\n",
    "    return aligned_curve"
   ]
  },
  {
   "cell_type": "markdown",
   "metadata": {},
   "source": [
    "Plot the results"
   ]
  },
  {
   "cell_type": "code",
   "execution_count": null,
   "metadata": {},
   "outputs": [],
   "source": [
    "fig = plt.figure()\n",
    "ax = fig.gca(projection='3d')\n",
    "ax.plot(curve[0, :], curve[1, :], curve[2, :], '-g', label='original', lineWidth=5)\n",
    "\n",
    "proj = find_orthogonal_transform(srm.s_)\n",
    "ax.plot(proj[0, :], proj[1, :], proj[2, :], '-b', label='SRM', lineWidth=3)\n",
    "proj = find_orthogonal_transform(rsrm.r_)\n",
    "ax.plot(proj[0, :], proj[1, :], proj[2, :], '-r', label='RSRM', lineWidth=3)\n",
    "\n"
   ]
  }
 ],
 "metadata": {
  "kernelspec": {
   "display_name": "Python 2",
   "language": "python",
   "name": "python2"
  },
  "language_info": {
   "codemirror_mode": {
    "name": "ipython",
    "version": 2.0
   },
   "file_extension": ".py",
   "mimetype": "text/x-python",
   "name": "python",
   "nbconvert_exporter": "python",
   "pygments_lexer": "ipython2",
   "version": "2.7.6"
  }
 },
 "nbformat": 4,
 "nbformat_minor": 0
}