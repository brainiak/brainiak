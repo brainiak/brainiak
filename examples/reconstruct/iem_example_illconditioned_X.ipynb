{
 "cells": [
  {
   "cell_type": "code",
   "execution_count": null,
   "metadata": {},
   "outputs": [],
   "source": [
    "import numpy as np\n",
    "import matplotlib.pyplot as plt\n",
    "from mpl_toolkits.mplot3d import Axes3D\n",
    "import brainiak.reconstruct.iem"
   ]
  },
  {
   "cell_type": "code",
   "execution_count": null,
   "metadata": {},
   "outputs": [],
   "source": [
    "# Generate synthetic data with dimension 9 that is linearly separable\n",
    "# but ill conditioned (because so few observations and duplicates)\n",
    "n, dim = 300, 9\n",
    "n_ = int(n/3)\n",
    "np.random.seed(0)\n",
    "C_0 = -.25 + .5*np.random.rand(dim, 5) # covariance matrix, initial\n",
    "C = np.hstack((C_0, C_0[:,0:4]))\n",
    "centers_0 = np.linspace(-1, 1, dim)\n",
    "centers_60 = np.roll(centers_0,5)\n",
    "centers_120 = centers_0[::-1]\n",
    "X_120 = np.dot(np.random.randn(3, dim), C) + centers_120\n",
    "X = np.vstack((np.dot(np.random.randn(3, dim), C) + centers_0,\n",
    "          np.dot(np.random.randn(3, dim), C) + centers_60,\n",
    "          X_120,\n",
    "          X_120))\n",
    "\n",
    "y = np.hstack((np.zeros(3), 60*np.ones(3), 120*np.ones(6)))\n",
    "\n",
    "print(\"Data, X, dimensions: \" + str([np.size(X,0), np.size(X,1)]))"
   ]
  },
  {
   "cell_type": "code",
   "execution_count": null,
   "metadata": {},
   "outputs": [],
   "source": [
    "# Plot some perspectives of the synthetic data: \n",
    "# 3-D scatter plot and 2-D perspectives \n",
    "\n",
    "fig = plt.figure()\n",
    "ax = fig.add_subplot(111, projection='3d')\n",
    "ax.scatter(X[0,0], X[0,1], X[0,2],'.',color='C0')\n",
    "ax.scatter(X[1,0], X[1,1], X[1,2],'.',color='C0')\n",
    "ax.scatter(X[2,0], X[2,1], X[2,2],'.',color='C0')\n",
    "ax.scatter(X[3,0], X[3,1], X[3,2],'.',color='C1')\n",
    "ax.scatter(X[4,0], X[4,1], X[4,2],'.',color='C1')\n",
    "ax.scatter(X[5,0], X[5,1], X[5,2],'.',color='C1')\n",
    "ax.scatter(X[6,0], X[6,1], X[6,2],'.',color='C2')\n",
    "ax.scatter(X[7,0], X[7,1], X[7,2],'.',color='C2')\n",
    "ax.scatter(X[8,0], X[8,1], X[8,2],'.',color='C2')\n",
    "ax.set_xlabel('dim 1')\n",
    "ax.set_ylabel('dim 2')\n",
    "ax.set_zlabel('dim 3')\n",
    "plt.title('synthetic data: 1st 3 dimensions')\n",
    "plt.show()\n",
    "\n",
    "plt.figure()\n",
    "plt.plot(X[0,0], X[0,8],'.',color='C0')\n",
    "plt.plot(X[1,0], X[1,8],'.',color='C0')\n",
    "plt.plot(X[2,0], X[2,8],'.',color='C0')\n",
    "plt.plot(X[3,0], X[3,8],'.',color='C1')\n",
    "plt.plot(X[4,0], X[4,8],'.',color='C1')\n",
    "plt.plot(X[5,0], X[5,8],'.',color='C1')\n",
    "plt.plot(X[6,0], X[6,8],'.',color='C2')\n",
    "plt.plot(X[7,0], X[7,8],'.',color='C2')\n",
    "plt.plot(X[8,0], X[8,8],'.',color='C2')\n",
    "plt.xlabel('dim 1')\n",
    "plt.ylabel('dim 9')\n",
    "plt.title('synthetic data: 2 of 9 dims.')\n",
    "plt.show()\n",
    "\n",
    "plt.figure()\n",
    "plt.plot(y)\n",
    "plt.xlabel('Trials')\n",
    "plt.ylabel('Feature')\n",
    "plt.title('feature values')\n",
    "plt.show()"
   ]
  },
  {
   "cell_type": "markdown",
   "metadata": {},
   "source": [
    "Output should be a 3-D view of (3 of) the dimensions of the data. Note that clusters separate (i.e. you could, roughly, draw a line and separate them. A second plot shows just one projects of this, which makes separability more clear. The final plot just shows the feature labels."
   ]
  },
  {
   "cell_type": "code",
   "execution_count": null,
   "metadata": {},
   "outputs": [],
   "source": [
    "# Create IEM object, feed it synthetic data, create new synthetic data\n",
    "# and predict feature (direction) from that data.\n",
    "\n",
    "s = brainiak.reconstruct.iem.InvertedEncoding(6, -30, 210)\n",
    "s.fit(X,y)\n",
    "\n",
    "X2_0 = np.dot(np.random.randn(n_, dim), C) + centers_0\n",
    "X2_60 = np.dot(np.random.randn(n_, dim), C) + centers_60\n",
    "X2_120 = np.dot(np.random.randn(n_, dim), C) + centers_120\n",
    "\n",
    "y2_0 = np.zeros(n_)\n",
    "y2_60 = 60*np.ones(n_)\n",
    "y2_120 = 120*np.ones(n_)\n",
    "\n",
    "r_hat_0 = s.predict(X2_0)\n",
    "r_hat_60 = s.predict(X2_60)\n",
    "r_hat_120 = s.predict(X2_120)\n",
    "\n",
    "y_hat_0 = s._predict_directions(X2_0)\n",
    "y_hat_60 = s._predict_directions(X2_60)\n",
    "y_hat_120 = s._predict_directions(X2_120)"
   ]
  },
  {
   "cell_type": "markdown",
   "metadata": {},
   "source": [
    "The above cell should have produced an error (\"Data matrix is nearly singular.\"). This is because the sythetic data for this example was designed to be ill-conditioned."
   ]
  },
  {
   "cell_type": "code",
   "execution_count": null,
   "metadata": {},
   "outputs": [],
   "source": [
    "# Show the condition number of the data matrix.\n",
    "np.linalg.cond(X)"
   ]
  },
  {
   "cell_type": "markdown",
   "metadata": {},
   "source": [
    "Note: A matrix with a very large condition number is not full rank and is ill conditioned."
   ]
  },
  {
   "cell_type": "code",
   "execution_count": null,
   "metadata": {},
   "outputs": [],
   "source": [
    "n, dim = 300, 9\n",
    "n_ = int(n / 3)\n",
    "np.random.seed(0)\n",
    "C = -.25 + .5 * np.random.rand(dim, dim)  # covariance matrix\n",
    "centers_0 = np.linspace(-1, 1, dim)\n",
    "centers_60 = np.roll(centers_0, 5)\n",
    "centers_120 = centers_0[::-1]\n",
    "X = np.vstack((np.dot(np.random.randn(n_, dim), C) + centers_0,\n",
    "               np.dot(np.random.randn(n_, dim), C) + centers_60,\n",
    "               np.dot(np.random.randn(n_, dim), C) + centers_120))\n",
    "\n",
    "y = np.hstack((np.zeros(n_), 60 * np.ones(n_), 120 * np.ones(n_)))\n",
    "\n",
    "# Create iem object\n",
    "Invt_model = brainiak.reconstruct.iem.InvertedEncoding(6, -30, 210)\n",
    "Invt_model.fit(X, y)\n",
    "\n",
    "# offending lines - data ill conditioned.\n",
    "n_ = 3\n",
    "C_0 = -.25 + .5*np.random.rand(dim, 5) # covariance matrix, initial\n",
    "C = np.hstack((C_0, C_0[:,0:4])) # cov. matrix is non-invertible\n",
    "X_120 = np.dot(np.random.randn(n_, dim), C) + centers_120\n",
    "X_t = np.vstack((np.dot(np.random.randn(n_, dim), C) + centers_0,\n",
    "                 np.dot(np.random.randn(n_, dim), C) + centers_60,\n",
    "                 X_120,\n",
    "                 X_120))\n",
    "r_hat = Invt_model.predict(X_t)\n",
    "m_reconstruct = np.mean(r_hat)"
   ]
  },
  {
   "cell_type": "markdown",
   "metadata": {},
   "source": [
    "The above cell should have produced an error ('Data matrix is nearly singular.'). This is because the testing data in this example was not full rank, even thought the training data was. This was by design to demonstrate how the algorithm can break. \n",
    "\n",
    "Possible solutions to the errors from both this example and the one above is to have more data, or if that is impossible, use fewer dimensions (e.g. a smaller volume of voxels)."
   ]
  },
  {
   "cell_type": "code",
   "execution_count": null,
   "metadata": {},
   "outputs": [],
   "source": [
    "# Show the condition number of the data matrix.\n",
    "np.linalg.cond(X_t)"
   ]
  },
  {
   "cell_type": "markdown",
   "metadata": {},
   "source": [
    "Note: A matrix with a very large condition number is not full rank and is ill conditioned."
   ]
  },
  {
   "cell_type": "code",
   "execution_count": null,
   "metadata": {},
   "outputs": [],
   "source": []
  }
 ],
 "metadata": {
  "kernelspec": {
   "display_name": "Python 3",
   "language": "python",
   "name": "python3"
  },
  "language_info": {
   "codemirror_mode": {
    "name": "ipython",
    "version": 3
   },
   "file_extension": ".py",
   "mimetype": "text/x-python",
   "name": "python",
   "nbconvert_exporter": "python",
   "pygments_lexer": "ipython3",
   "version": "3.6.5"
  }
 },
 "nbformat": 4,
 "nbformat_minor": 2
}
