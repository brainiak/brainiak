{
 "cells": [
  {
   "cell_type": "code",
   "execution_count": null,
   "metadata": {},
   "outputs": [],
   "source": [
    "import numpy as np\n",
    "import matplotlib.pyplot as plt\n",
    "from mpl_toolkits.mplot3d import Axes3D\n",
    "import brainiak.reconstruct.iem"
   ]
  },
  {
   "cell_type": "code",
   "execution_count": null,
   "metadata": {},
   "outputs": [],
   "source": [
    "# Generate synthetic data with dimension 9 that is linearly separable\n",
    "n, dim = 300, 9\n",
    "n_ = int(n/3)\n",
    "np.random.seed(0)\n",
    "C = -.25 + .5*np.random.rand(dim, dim) # covariance matrix\n",
    "centers_0 = np.linspace(-1, 1, dim)\n",
    "centers_60 = np.roll(centers_0,5)\n",
    "centers_120 = centers_0[::-1]\n",
    "X = np.vstack((np.dot(np.random.randn(n_, dim), C) + centers_0,\n",
    "          np.dot(np.random.randn(n_, dim), C) + centers_60,\n",
    "          np.dot(np.random.randn(n_, dim), C) + centers_120))\n",
    "\n",
    "y = np.hstack((np.zeros(n_), 60*np.ones(n_), 120*np.ones(n_)))\n",
    "\n",
    "print(\"Data, X, dimensions: \" + str([np.size(X,0), np.size(X,1)]))"
   ]
  },
  {
   "cell_type": "code",
   "execution_count": null,
   "metadata": {},
   "outputs": [],
   "source": [
    "# Plot some perspectives of the synthetic data: \n",
    "# 3-D scatter plot and 2-D perspectives \n",
    "\n",
    "fig = plt.figure()\n",
    "ax = fig.add_subplot(111, projection='3d')\n",
    "ax.scatter(X[0:99,0], X[0:99,2], X[0:99,2])\n",
    "ax.scatter(X[100:199,0], X[100:199,2], X[100:199,2])\n",
    "ax.scatter(X[200:,0], X[200:,2], X[200:,2])\n",
    "ax.set_xlabel('dim 1')\n",
    "ax.set_ylabel('dim 2')\n",
    "ax.set_zlabel('dim 3')\n",
    "plt.title('synthetic data: 1st 3 dimensions')\n",
    "plt.show()\n",
    "\n",
    "plt.figure()\n",
    "plt.plot(X[0:99,0],X[0:99,8],'.',color='C0')\n",
    "plt.plot(X[100:199,0],X[100:199,8],'.',color='C1')\n",
    "plt.plot(X[200:299,0],X[200:299,8],'.',color='C2')\n",
    "plt.xlabel('dim 1')\n",
    "plt.ylabel('dim 9')\n",
    "plt.title('synthetic data: 2 of 9 dims.')\n",
    "plt.show()\n",
    "\n",
    "plt.figure()\n",
    "plt.plot(y)\n",
    "plt.xlabel('Trials')\n",
    "plt.ylabel('Feature')\n",
    "plt.title('feature values')\n",
    "plt.show()"
   ]
  },
  {
   "cell_type": "markdown",
   "metadata": {},
   "source": [
    "Output should be a 3-D view of (3 of) the dimensions of the data. Note that clusters are separable (i.e. you could, roughly, draw in a plane and separate them). A second plot shows just one projects of this, which makes separability more clear. The final plot just shows the feature labels."
   ]
  },
  {
   "cell_type": "code",
   "execution_count": null,
   "metadata": {},
   "outputs": [],
   "source": [
    "# Create IEM object, feed it synthetic data, create new synthetic data\n",
    "# and predict feature (direction) from that data.\n",
    "\n",
    "s = brainiak.reconstruct.iem.InvertedEncoding(6, -30, 210)\n",
    "s.fit(X,y)\n",
    "\n",
    "X2_0 = np.dot(np.random.randn(n_, dim), C) + centers_0\n",
    "X2_60 = np.dot(np.random.randn(n_, dim), C) + centers_60\n",
    "X2_120 = np.dot(np.random.randn(n_, dim), C) + centers_120\n",
    "\n",
    "y2_0 = np.zeros(n_)\n",
    "y2_60 = 60*np.ones(n_)\n",
    "y2_120 = 120*np.ones(n_)\n",
    "\n",
    "r_hat_0 = s.predict(X2_0)\n",
    "r_hat_60 = s.predict(X2_60)\n",
    "r_hat_120 = s.predict(X2_120)\n",
    "\n",
    "y_hat_0 = s._predict_directions(X2_0)\n",
    "y_hat_60 = s._predict_directions(X2_60)\n",
    "y_hat_120 = s._predict_directions(X2_120)"
   ]
  },
  {
   "cell_type": "code",
   "execution_count": null,
   "metadata": {},
   "outputs": [],
   "source": [
    "# Display decoded response directions from above computations.\n",
    "\n",
    "print(\"Mean decoded direction: \" + str([int(np.mean(r_hat_0)), int(np.mean(r_hat_60)), int(np.mean(r_hat_120))]))\n",
    "\n"
   ]
  },
  {
   "cell_type": "markdown",
   "metadata": {},
   "source": [
    "Decoded features should be close to 0, 60, and 120, since those were the centers used to create the synthetic data."
   ]
  },
  {
   "cell_type": "code",
   "execution_count": null,
   "metadata": {},
   "outputs": [],
   "source": [
    "# Plot the estimated response from channels\n",
    "\n",
    "plt.figure()\n",
    "plt.plot(s.C_D_, y_hat_0.transpose());\n",
    "plt.xlabel('Feature domain')\n",
    "plt.ylabel('Estimated response')\n",
    "plt.title('Feature: 0-deg.')\n",
    "plt.figure()\n",
    "plt.plot(s.C_D_, y_hat_60.transpose());\n",
    "plt.xlabel('Feature domain')\n",
    "plt.ylabel('Estimated response')\n",
    "plt.title('Feature: 60-deg.')\n",
    "plt.figure()\n",
    "plt.plot(s.C_D_, y_hat_120.transpose());\n",
    "plt.xlabel('Feature domain')\n",
    "plt.ylabel('Estimated response')\n",
    "plt.title('Feature: 120-deg.');"
   ]
  },
  {
   "cell_type": "markdown",
   "metadata": {},
   "source": [
    "Channel responses should have peaks at the feature value corresponding to their decoded value (i.e. 0, 60, and 120."
   ]
  },
  {
   "cell_type": "code",
   "execution_count": null,
   "metadata": {},
   "outputs": [],
   "source": [
    "# Plot the average channel respone and show \n",
    "# decoded response predictions.\n",
    "\n",
    "m0 = np.mean(y_hat_0,axis = 0)\n",
    "m60 = np.mean(y_hat_60,axis = 0)\n",
    "m120 = np.mean(y_hat_120,axis = 0)\n",
    "\n",
    "plt.figure()\n",
    "plt.plot(s.C_D_, m0,'-', label='0-deg')\n",
    "plt.plot(s.C_D_, m60,'-', label='60-deg')\n",
    "plt.plot(s.C_D_, m120,'-', label='120-deg')\n",
    "plt.xlabel('Feature domain')\n",
    "plt.ylabel('Estimated response')\n",
    "plt.title('Mean responses')\n",
    "plt.legend()\n",
    "\n",
    "d0 = np.argmax(m0)\n",
    "d60= np.argmax(m60)\n",
    "d120 = np.argmax(m120)\n",
    "print(\"Decoded direction of mean response: \" + str([int(s.C_D_[d0]), int(s.C_D_[d60]), int(s.C_D_[d120])]))\n"
   ]
  },
  {
   "cell_type": "markdown",
   "metadata": {},
   "source": [
    "Output should be the mean of the channel outputs shown in the cell above. Peaks should be evident at 0, 60, and 120, the centers of the synthetic data."
   ]
  },
  {
   "cell_type": "code",
   "execution_count": null,
   "metadata": {},
   "outputs": [],
   "source": [
    "# Test getting parameters\n",
    "\n",
    "param_out = s.get_params()\n",
    "print(param_out)"
   ]
  },
  {
   "cell_type": "markdown",
   "metadata": {},
   "source": [
    "Output should be the parameters we initialized the object with: 6, -30, 210"
   ]
  },
  {
   "cell_type": "code",
   "execution_count": null,
   "metadata": {},
   "outputs": [],
   "source": [
    "# Test setting parameters and predict again using new parameters\n",
    "\n",
    "s.set_params(n_channels = 10, range_start = -90, range_stop = 270)\n",
    "\n",
    "param_out_2 = s.get_params()\n",
    "print(param_out_2)\n",
    "\n",
    "s.fit(X,y)\n",
    "\n",
    "X3_0 = np.dot(np.random.randn(n_, dim), C) + centers_0\n",
    "X3_60 = np.dot(np.random.randn(n_, dim), C) + centers_60\n",
    "X3_120 = np.dot(np.random.randn(n_, dim), C) + centers_120\n",
    "\n",
    "y3_0 = np.zeros(n_)\n",
    "y3_60 = 60*np.ones(n_)\n",
    "y3_120 = 120*np.ones(n_)\n",
    "\n",
    "r_hat3_0 = s.predict(X3_0)\n",
    "r_hat3_60 = s.predict(X3_60)\n",
    "r_hat3_120 = s.predict(X3_120)\n",
    "\n",
    "print(\"Mean decoded direction: \" + str([int(np.mean(r_hat3_0)), int(np.mean(r_hat3_60)), int(np.mean(r_hat3_120))]))"
   ]
  },
  {
   "cell_type": "markdown",
   "metadata": {},
   "source": [
    "Output should be the parameters that we set, and decoded feature values close to the ground truth, or 0, 60, 120. Note that a change in the feature domain used (-90 to 270, instead of -30 to 210 used above) does not change the outcome appreciably."
   ]
  },
  {
   "cell_type": "code",
   "execution_count": null,
   "metadata": {},
   "outputs": [],
   "source": []
  }
 ],
 "metadata": {
  "kernelspec": {
   "display_name": "Python 3",
   "language": "python",
   "name": "python3"
  },
  "language_info": {
   "codemirror_mode": {
    "name": "ipython",
    "version": 3
   },
   "file_extension": ".py",
   "mimetype": "text/x-python",
   "name": "python",
   "nbconvert_exporter": "python",
   "pygments_lexer": "ipython3",
   "version": "3.6.5"
  }
 },
 "nbformat": 4,
 "nbformat_minor": 2
}
