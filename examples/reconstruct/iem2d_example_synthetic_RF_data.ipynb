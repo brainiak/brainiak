{
 "cells": [
  {
   "cell_type": "code",
   "execution_count": 1,
   "metadata": {},
   "outputs": [],
   "source": [
    "import numpy as np\n",
    "# from brainiak.reconstruct import iem as IEM\n",
    "import matplotlib.pyplot as plt\n",
    "import numpy.matlib as matlib\n",
    "import scipy.signal"
   ]
  },
  {
   "cell_type": "markdown",
   "metadata": {},
   "source": [
    "In this example, we will assume that the stimuli are circular checkerboards presented in 2-dimensional visual space. We will build an encoding model that has a grid of 6x6 channels, or basis functions, which also span this 2D space."
   ]
  },
  {
   "cell_type": "code",
   "execution_count": 58,
   "metadata": {},
   "outputs": [],
   "source": [
    "import iem"
   ]
  },
  {
   "cell_type": "code",
   "execution_count": 68,
   "metadata": {},
   "outputs": [
    {
     "data": {
      "text/plain": [
       "<module 'iem' from '/home/vyvo/projects/brainiak/examples/reconstruct/iem.py'>"
      ]
     },
     "execution_count": 68,
     "metadata": {},
     "output_type": "execute_result"
    }
   ],
   "source": [
    "import importlib\n",
    "importlib.reload(iem)"
   ]
  },
  {
   "cell_type": "code",
   "execution_count": 69,
   "metadata": {},
   "outputs": [
    {
     "name": "stdout",
     "output_type": "stream",
     "text": [
      "[-8.5, 8.5] [-5, 5] [-6, 6] [-3, 3]\n"
     ]
    }
   ],
   "source": [
    "# Set up parameters\n",
    "n_channels = [9, 5]  # channels in the x, y directions\n",
    "cos_exponent = 5\n",
    "stimx, stimy = [-17/2, 17/2], [-5, 5]\n",
    "stim_res = [171, 101]\n",
    "stim_size = 1.449\n",
    "chanx, chany = [-6, 6], [-3, 3]\n",
    "print(stimx, stimy, chanx, chany)\n",
    "\n",
    "iem_obj = iem.InvertedEncoding2D(stim_xlim=stimx, stim_ylim=stimy,\n",
    "                                 stimulus_resolution=stim_res,\n",
    "                                 stim_radius=stim_size,\n",
    "                                 chan_xlim=chanx, chan_ylim=chany)\n",
    "# stim_vals = np.linspace(0, feature_resolution - (feature_resolution/6), 6).astype(int)"
   ]
  },
  {
   "cell_type": "markdown",
   "metadata": {},
   "source": [
    "The quality and interpretability of your stimulus reconstructions all depend on how you set up the channels, or basis functions, in the model. In order to ensure that you can accurately reconstruct stimuli at all portions in the area where you have presented stimuli, you will want to evenly space your basis functions in that region. You also will likely want to ensure some overlap between the basis functions.\n",
    "\n",
    "There are two pre-built functions to create a 2D grid of basis functions, to use a rectangular grid or a triangular grid. A triangular grid is more space-efficient, so let's use that.\n",
    "\n",
    "Note you will need to define these basis functions before you can fit the model. Otherwise it will throw an error."
   ]
  },
  {
   "cell_type": "code",
   "execution_count": 70,
   "metadata": {},
   "outputs": [
    {
     "name": "stdout",
     "output_type": "stream",
     "text": [
      "(35, 17271, 1) (35, 2)\n"
     ]
    }
   ],
   "source": [
    "basis_fcns, basis_centers = iem_obj.define_basis_functions_trigrid(grid_radius=3.5)\n",
    "print(basis_fcns.shape, basis_centers.shape)"
   ]
  },
  {
   "cell_type": "code",
   "execution_count": 71,
   "metadata": {},
   "outputs": [
    {
     "data": {
      "text/plain": [
       "[<matplotlib.lines.Line2D at 0x7fab03d5fb50>]"
      ]
     },
     "execution_count": 71,
     "metadata": {},
     "output_type": "execute_result"
    },
    {
     "data": {
      "image/png": "[encoded data removed]",
      "text/plain": [
       "<Figure size 432x288 with 1 Axes>"
      ]
     },
     "metadata": {
      "needs_background": "light"
     },
     "output_type": "display_data"
    }
   ],
   "source": [
    "plt.plot(basis_centers[:, 0], basis_centers[:, 1], '.')"
   ]
  },
  {
   "cell_type": "markdown",
   "metadata": {},
   "source": [
    "To visualize these, you will need to reshape the second dimension into the 2D pixel space where the stimuli are represented."
   ]
  },
  {
   "cell_type": "code",
   "execution_count": 72,
   "metadata": {},
   "outputs": [],
   "source": [
    "basis_res = np.reshape(basis_fcns, (basis_fcns.shape[0], stim_res[1], stim_res[0]))"
   ]
  },
  {
   "cell_type": "code",
   "execution_count": 73,
   "metadata": {},
   "outputs": [
    {
     "data": {
      "text/plain": [
       "<matplotlib.image.AxesImage at 0x7fab03d04bd0>"
      ]
     },
     "execution_count": 73,
     "metadata": {},
     "output_type": "execute_result"
    },
    {
     "data": {
      "image/png": "[encoded data removed]",
      "text/plain": [
       "<Figure size 432x288 with 1 Axes>"
      ]
     },
     "metadata": {
      "needs_background": "light"
     },
     "output_type": "display_data"
    }
   ],
   "source": [
    "# TODO: create subplots of all of them\n",
    "plt.imshow(basis_res[30, :, :].squeeze())"
   ]
  },
  {
   "cell_type": "code",
   "execution_count": 74,
   "metadata": {},
   "outputs": [],
   "source": [
    "# TODO: show summed together basis functions\n",
    "# TODO: show cross-section of summed basis functions to demonstrate they are flat/smooth"
   ]
  },
  {
   "cell_type": "code",
   "execution_count": 75,
   "metadata": {},
   "outputs": [],
   "source": [
    "# TODO: load 2D fMRI data..."
   ]
  },
  {
   "cell_type": "code",
   "execution_count": 76,
   "metadata": {},
   "outputs": [
    {
     "name": "stdout",
     "output_type": "stream",
     "text": [
      "(35, 17271, 1)\n",
      "(17271, 20)\n"
     ]
    },
    {
     "name": "stderr",
     "output_type": "stream",
     "text": [
      "/home/vyvo/projects/brainiak/examples/reconstruct/iem.py:828: RuntimeWarning: Stimulus matrix is 16, not full rank. May cause issues with stimulus prediction/reconstruction.\n",
      "  np.linalg.matrix_rank(C)), RuntimeWarning)\n"
     ]
    }
   ],
   "source": [
    "sx = np.random.randint(0, high=12, size=(20, 1)) - 6\n",
    "sy = np.random.randint(0, high=6, size=(20, 1)) - 3\n",
    "\n",
    "C = iem_obj._define_trial_activations(np.hstack((sx, sy)))"
   ]
  },
  {
   "cell_type": "code",
   "execution_count": 78,
   "metadata": {},
   "outputs": [
    {
     "data": {
      "text/plain": [
       "<matplotlib.image.AxesImage at 0x7fab03c39210>"
      ]
     },
     "execution_count": 78,
     "metadata": {},
     "output_type": "execute_result"
    },
    {
     "data": {
      "image/png": "[encoded data removed]",
      "text/plain": [
       "<Figure size 432x288 with 1 Axes>"
      ]
     },
     "metadata": {
      "needs_background": "light"
     },
     "output_type": "display_data"
    }
   ],
   "source": [
    "plt.imshow(C)"
   ]
  },
  {
   "cell_type": "markdown",
   "metadata": {},
   "source": [
    "Now we'll generate synthetic data. Ideally, each voxel that we measure from is roughly tuned to some part of the feature space (see Sprague, Boynton, Serences, 2019). So we will generate data that has a receptive field (RF). We can define the RF along the same feature axis as the channels that we generated above.\n",
    "\n",
    "The following two functions will generate the voxel RFs, and then generate several trials of that dataset. There are options to add uniform noise to either the RF or the trials."
   ]
  },
  {
   "cell_type": "code",
   "execution_count": null,
   "metadata": {},
   "outputs": [],
   "source": [
    "# Generate synthetic data s.t. each voxel has a Gaussian tuning function\n",
    "\n",
    "def generate_voxel_RFs(n_voxels, feature_resolution, random_tuning=True, RF_noise=0.):\n",
    "    if random_tuning:\n",
    "        # Voxel selectivity is random\n",
    "        voxel_tuning = np.floor((np.random.rand(n_voxels) * range_stop) + range_start).astype(int)\n",
    "    else:\n",
    "        # Voxel selectivity is evenly spaced along the feature axis\n",
    "        voxel_tuning = np.linspace(range_start, range_stop, n_voxels+1)\n",
    "        voxel_tuning = voxel_tuning[0:-1]\n",
    "        voxel_tuning = np.floor(voxel_tuning).astype(int)\n",
    "    gaussian = scipy.signal.gaussian(feature_resolution, 15)\n",
    "    voxel_RFs = np.zeros((n_voxels, feature_resolution))\n",
    "    for i in range(0, n_voxels):\n",
    "        voxel_RFs[i, :] = np.roll(gaussian, voxel_tuning[i] - ((feature_resolution//2)-1))\n",
    "    voxel_RFs += np.random.rand(n_voxels, feature_resolution)*RF_noise  # add noise to voxel RFs\n",
    "    voxel_RFs = voxel_RFs / np.max(voxel_RFs, axis=1)[:, None]\n",
    "    \n",
    "    return voxel_RFs, voxel_tuning\n",
    "\n",
    "\n",
    "def generate_voxel_data(voxel_RFs, n_voxels, trial_list, feature_resolution, \n",
    "                         trial_noise=0.25):\n",
    "    one_hot = np.eye(feature_resolution)\n",
    "    # Generate trial-wise responses based on voxel RFs\n",
    "    if range_start > 0:\n",
    "        trial_list = trial_list + range_start\n",
    "    elif range_start < 0:\n",
    "        trial_list = trial_list - range_start\n",
    "    stim_X = one_hot[:, trial_list] #@ basis_set.transpose()\n",
    "    trial_data = voxel_RFs @ stim_X\n",
    "    trial_data += np.random.rand(n_voxels, trial_list.size)*(trial_noise*np.max(trial_data))\n",
    "    \n",
    "    return trial_data"
   ]
  },
  {
   "cell_type": "markdown",
   "metadata": {},
   "source": [
    "Now let's generate some training data and look at it. This code will create a plot that depicts the response of an example voxel for different trials."
   ]
  },
  {
   "cell_type": "code",
   "execution_count": null,
   "metadata": {},
   "outputs": [],
   "source": [
    "np.random.seed(100)\n",
    "n_voxels = 50\n",
    "n_train_trials = 120\n",
    "training_stim = np.repeat(stim_vals, n_train_trials/6)\n",
    "voxel_RFs, voxel_tuning = generate_voxel_RFs(n_voxels, feature_resolution, random_tuning=False, RF_noise=0.1)\n",
    "train_data = generate_voxel_data(voxel_RFs, n_voxels, training_stim, feature_resolution, trial_noise=0.25)\n",
    "print(np.linalg.cond(train_data))\n",
    "# print(\"Voxels are tuned to: \", voxel_tuning)\n",
    "\n",
    "# Generate plots to look at the RF of an example voxel.\n",
    "voxi = 20\n",
    "f = plt.figure()\n",
    "plt.subplot(1, 2, 1)\n",
    "plt.plot(train_data[voxi, :])\n",
    "plt.xlabel(\"trial\")\n",
    "plt.ylabel(\"activation\")\n",
    "plt.title(\"Activation over trials\")\n",
    "plt.subplot(1, 2, 2)\n",
    "plt.plot(voxel_RFs[voxi, :])\n",
    "plt.xlabel(\"degrees (motion direction)\")\n",
    "plt.axvline(voxel_tuning[voxi])\n",
    "plt.title(\"Receptive field at {} deg\".format(voxel_tuning[voxi]))\n",
    "plt.suptitle(\"Example voxel\")\n",
    "\n",
    "plt.figure()\n",
    "plt.imshow(train_data)\n",
    "plt.ylabel('voxel')\n",
    "plt.xlabel('trial')\n",
    "plt.suptitle('Simulated data from each voxel')"
   ]
  },
  {
   "cell_type": "markdown",
   "metadata": {},
   "source": [
    "Using this synthetic training data, we can fit the IEM."
   ]
  },
  {
   "cell_type": "code",
   "execution_count": null,
   "metadata": {},
   "outputs": [],
   "source": [
    "# Fit an IEM\n",
    "iem_obj.fit(train_data.transpose(), training_stim)"
   ]
  },
  {
   "cell_type": "markdown",
   "metadata": {},
   "source": [
    "Calling the IEM fit method defines the channels, or the basis set, which span the feature domain. We can examine the channels and plot them to check that they look appropriate.\n",
    "\n",
    "Remember that the plot below is in circular space. Hence, the channels wrap around the x-axis. For example, the channel depicted in blue is centered at 0 degrees (far left of plot), which is the same as 360 degrees (far right of plot).\n",
    "\n",
    "We can check whether the channels properly tile the feature space by summing across all of them. This is shown on the right plot. It should be a straight horizontal line."
   ]
  },
  {
   "cell_type": "code",
   "execution_count": null,
   "metadata": {},
   "outputs": [],
   "source": [
    "# Let's visualize the basis functions.\n",
    "channels = iem_obj.channels_\n",
    "feature_axis = iem_obj.channel_domain\n",
    "print(channels.shape)\n",
    "\n",
    "plt.figure()\n",
    "plt.subplot(1, 2, 1)\n",
    "for i in range(0, channels.shape[0]):\n",
    "    plt.plot(feature_axis, channels[i,:])\n",
    "plt.title('Channels (i.e. basis functions)')\n",
    "plt.subplot(1, 2, 2)\n",
    "plt.plot(np.sum(channels, 0))\n",
    "plt.ylim(0, 2.5)\n",
    "plt.title('Sum across channels')"
   ]
  },
  {
   "cell_type": "markdown",
   "metadata": {},
   "source": [
    "Now we can generate test data and see how well we can predict the test stimuli."
   ]
  },
  {
   "cell_type": "code",
   "execution_count": null,
   "metadata": {},
   "outputs": [],
   "source": [
    "# Generate test data\n",
    "n_test_trials = 12\n",
    "test_stim = np.repeat(stim_vals, n_test_trials/len(stim_vals))\n",
    "np.random.seed(330)\n",
    "test_data = generate_voxel_data(voxel_RFs, n_voxels, test_stim, feature_resolution, trial_noise=0.25)"
   ]
  },
  {
   "cell_type": "code",
   "execution_count": null,
   "metadata": {},
   "outputs": [],
   "source": [
    "# Predict test stim & get R^2 score\n",
    "pred_feature = iem_obj.predict(test_data.transpose())\n",
    "R2 = iem_obj.score(test_data.transpose(), test_stim)\n",
    "\n",
    "print(\"Predicted features are: {} degrees.\".format(pred_feature))\n",
    "print(\"Actual features are: {} degrees.\".format(test_stim))\n",
    "print(\"Test R^2 is {}\".format(R2))"
   ]
  },
  {
   "cell_type": "markdown",
   "metadata": {},
   "source": [
    "In addition to predicting the exact feature, we can examine the model-based reconstructions in the feature domain. That is, instead of getting single predicted values for each feature, we can look at a reconstructed function which peaks at the predicted feature.\n",
    "\n",
    "Below we will plot all of the reconstructions. There will be some variability because of the noise added during the synthetic data generation."
   ]
  },
  {
   "cell_type": "code",
   "execution_count": null,
   "metadata": {},
   "outputs": [],
   "source": [
    "# Now get the model-based reconstructions, which are continuous\n",
    "# functions that should peak at each test stimulus feature\n",
    "recons = iem_obj._predict_feature_responses(test_data.transpose())\n",
    "\n",
    "f = plt.figure()\n",
    "for i in range(0, n_test_trials-1):\n",
    "    plt.plot(feature_axis, recons[:, i])\n",
    "for i in stim_vals:\n",
    "    plt.axvline(x=i, color='k', linestyle='--')\n",
    "\n",
    "plt.title(\"Reconstructions of {} degrees\".format(np.unique(test_stim)))"
   ]
  },
  {
   "cell_type": "markdown",
   "metadata": {},
   "source": [
    "For a sanity check, let's check how R^2 changes as the number of voxels increases. We can write a quick wrapper function to train and test on a given set of motion directions, as below."
   ]
  },
  {
   "cell_type": "code",
   "execution_count": null,
   "metadata": {},
   "outputs": [],
   "source": [
    "iem_obj.verbose = False\n",
    "def train_and_test(nvox, ntrn, ntst, rfn, tn):\n",
    "    vRFs, vox_tuning = generate_voxel_RFs(nvox, feature_resolution, random_tuning=True, RF_noise=rfn)\n",
    "    trn = np.repeat(stim_vals, ntrn/6).astype(int)\n",
    "    trnd = generate_voxel_data(vRFs, nvox, trn, feature_resolution, trial_noise=tn)\n",
    "    tst = np.repeat(stim_vals, ntst/6).astype(int)\n",
    "    tstd = generate_voxel_data(vRFs, nvox, tst, feature_resolution, trial_noise=tn)\n",
    "    \n",
    "    iem_obj.fit(trnd.transpose(), trn)\n",
    "    recons = iem_obj._predict_feature_responses(tstd.transpose())\n",
    "    pred_ori = iem_obj.predict(tstd.transpose())\n",
    "    R2 = iem_obj.score(tstd.transpose(), tst)\n",
    "\n",
    "    return recons, pred_ori, R2, tst"
   ]
  },
  {
   "cell_type": "markdown",
   "metadata": {},
   "source": [
    "We'll iterate through the list and look at the resulting R^2 values."
   ]
  },
  {
   "cell_type": "code",
   "execution_count": null,
   "metadata": {},
   "outputs": [],
   "source": [
    "np.random.seed(300)\n",
    "vox_list = (5, 10, 15, 25, 50)\n",
    "R2_list = np.zeros(len(vox_list))\n",
    "for idx, nvox in enumerate(vox_list):\n",
    "    recs, preds, R2_list[idx], test_features = train_and_test(nvox, 120, 30, 0.1, 0.25)\n",
    "\n",
    "print(\"The R2 values for increasing numbers of voxels: \")\n",
    "print(R2_list)"
   ]
  }
 ],
 "metadata": {
  "kernelspec": {
   "display_name": "Python 3",
   "language": "python",
   "name": "python3"
  },
  "language_info": {
   "codemirror_mode": {
    "name": "ipython",
    "version": 3
   },
   "file_extension": ".py",
   "mimetype": "text/x-python",
   "name": "python",
   "nbconvert_exporter": "python",
   "pygments_lexer": "ipython3",
   "version": "3.7.4"
  }
 },
 "nbformat": 4,
 "nbformat_minor": 2
}
